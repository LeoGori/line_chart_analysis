{
  "cells": [
    {
      "cell_type": "markdown",
      "metadata": {},
      "source": [
        "# Implementation of the model that infers the number of lines depicted on the line graph images\n",
        "This approach involves cutting the image of the legends and inferring the number of lines from it, through the vgg16 model"
      ]
    },
    {
      "cell_type": "markdown",
      "metadata": {
        "id": "31PNYYc7ElJH"
      },
      "source": [
        "IMPORTARE IL DATASET CON LE ANNOTAZIONI"
      ]
    },
    {
      "cell_type": "code",
      "execution_count": null,
      "metadata": {},
      "outputs": [],
      "source": [
        "!unzip ds.zip\n",
        "\n",
        "!rm ds.zip\n",
        "\n",
        "!mkdir output\n",
        "!mkdir output/Plots"
      ]
    },
    {
      "cell_type": "markdown",
      "metadata": {
        "id": "teDgVOpDAiT5"
      },
      "source": [
        "CONFIG FILE"
      ]
    },
    {
      "cell_type": "code",
      "execution_count": null,
      "metadata": {
        "id": "gwabeiySAe43"
      },
      "outputs": [],
      "source": [
        "# import the necessary packages\n",
        "import os\n",
        "MAX_NUM_LINES = 10\n",
        "# define the base path to the input dataset and then use it to derive\n",
        "# the path to the images directory and annotation CSV file\n",
        "BASE_PATH = \"legend_dataset\"\n",
        "IMAGES_PATH = os.path.sep.join([BASE_PATH, \"Annotated_images\"])\n",
        "ANNOTS_PATH = os.path.sep.join([BASE_PATH, \"annotations.csv\"])\n",
        "\n",
        "# define the path to the base output directory\n",
        "BASE_OUTPUT = \"output\"\n",
        "# define the path to the output serialized model, model training plot,\n",
        "# and testing image filenames\n",
        "MODEL_PATH = os.path.sep.join([BASE_OUTPUT, \"detector.h5\"])\n",
        "PLOT_PATH = os.path.sep.join([BASE_OUTPUT, \"Plots/\"])\n",
        "TEST_FILENAMES = os.path.sep.join([BASE_OUTPUT, \"test_images.txt\"])\n",
        "TRAIN_FILENAMES = os.path.sep.join([BASE_OUTPUT, \"train_images.txt\"])\n",
        "\n",
        "# initialize our initial learning rate, number of epochs to train\n",
        "# for, and the batch size\n",
        "INIT_LR = 1e-4\n",
        "NUM_EPOCHS = 100\n",
        "BATCH_SIZE = 32\n",
        "\n",
        "# min height legende = 18\n",
        "# min width legende = 46\n",
        "# max size legede: (h=338, w=896)\n",
        "\n",
        "VGG_HEIGHT = VGG_WIDTH = 224\n",
        "MIN_HEIGHT = 224\n",
        "MIN_WIDTH = 224"
      ]
    },
    {
      "cell_type": "markdown",
      "metadata": {
        "id": "51OJELbTA0pY"
      },
      "source": [
        "MODEL FILE"
      ]
    },
    {
      "cell_type": "code",
      "execution_count": null,
      "metadata": {
        "id": "J_Ev36phAmxQ"
      },
      "outputs": [],
      "source": [
        "import tensorflow as tf\n",
        "from tensorflow.keras.applications import VGG16, ResNet50\n",
        "from tensorflow.keras.layers import Flatten, AveragePooling2D\n",
        "from tensorflow.keras.layers import Dense\n",
        "from tensorflow.keras.layers import Input, Dropout, Conv2D, MaxPooling2D\n",
        "from tensorflow.keras.models import Model\n",
        "from tensorflow.keras.optimizers import Adam\n",
        "# from eiou_loss import EIoULoss\n",
        "from tensorflow.keras.losses import MeanAbsoluteError, CategoricalCrossentropy, MeanSquaredLogarithmicError\n",
        "from tensorflow.keras.metrics import Accuracy\n",
        "# import config\n",
        "from tensorflow.keras.utils import plot_model\n",
        "from tensorflow import keras\n",
        "from tensorflow.keras.models import Sequential\n",
        "\n",
        "\n",
        "def get_model():\n",
        "    # load the VGG16 network, ensuring the head FC layers are left off\n",
        "    input = Input(shape=(224, 224, 3))\n",
        "\n",
        "    vgg = VGG16(weights=\"imagenet\", include_top=False)\n",
        "    print(\"STRUTTURA VGG16\")\n",
        "    for layer in vgg.layers[:-4]:\n",
        "        layer.trainable = False\n",
        "    vgg.summary()\n",
        "\n",
        "    x = vgg(input)\n",
        "    x = Flatten(input_shape=(7, 7, 512))(x)\n",
        "    # x = Dropout(0.2)(x)\n",
        "    # x = Dense(128, activation='relu')(x)\n",
        "\n",
        "    # construct a fully-connected layer header to output the predicted\n",
        "    # bounding box coordinates\n",
        "\n",
        "    # legend_output = Flatten(input_shape=(7, 7, 512))(x)\n",
        "    # legend_output = Dense(256, activation='relu')(legend_output)\n",
        "    # legend_output = Dropout(0.2)(x)\n",
        "    # legend_output = Dense(4, activation='sigmoid', name='legend_bbox')(legend_output)\n",
        "\n",
        "    # axis_output = Flatten(input_shape=(7, 7, 512))(x)\n",
        "    # axis_output = Dense(256, activation='relu')(axis_output)\n",
        "    # axis_output = Dropout(0.2)(x)\n",
        "    # axis_output = Dense(4, activation='linear', name='axis_bbox')(axis_output)\n",
        "\n",
        "    # categorical_output = Flatten(input_shape=(7, 7, 512))(x)\n",
        "    # categorical_output = Dense(256, activation='relu')(categorical_output)\n",
        "    categorical_output = Dropout(0.3)(x)\n",
        "    categorical_output = Dense(1, activation='linear', name='num_lines')(categorical_output)\n",
        "\n",
        "    model = Model(input, categorical_output)\n",
        "\n",
        "    # initialize the optimizer, compile the model, and show the model\n",
        "    # summary\n",
        "    opt = Adam()\n",
        "    model.compile(loss=MeanAbsoluteError(), optimizer=opt)\n",
        "    print(\"STRUTTURA MODELLO COMPLETO\")\n",
        "    model.summary()\n",
        "    plot_model(model, to_file=BASE_OUTPUT + '/model.png')\n",
        "\n",
        "    return model\n",
        "\n",
        "\n",
        "def get_my_model():\n",
        "  # load the VGG16 network, ensuring the head FC layers are left off\n",
        "  input = Input(shape=(MIN_HEIGHT, MIN_WIDTH, 3))\n",
        "\n",
        "  x = Conv2D(16, (2, 2), input_shape=(MIN_HEIGHT, MIN_WIDTH, 3))(input)\n",
        "  x = MaxPooling2D()(x)\n",
        "  x = Dropout(0.2)(x)\n",
        "\n",
        "  x = Conv2D(32, (2, 2))(x)\n",
        "  x = MaxPooling2D()(x)\n",
        "  x = Dropout(0.2)(x)\n",
        "\n",
        "  x = Conv2D(64, (2, 2))(x)\n",
        "  x = MaxPooling2D()(x)\n",
        "  x = Dropout(0.2)(x)\n",
        "\n",
        "  x = Flatten()(x)\n",
        "\n",
        "  categorical_output = Dropout(0.3)(x)\n",
        "  categorical_output = Dense(32, activation='relu')(categorical_output)\n",
        "  categorical_output = Dropout(0.3)(categorical_output)\n",
        "  categorical_output = Dense(1, activation='linear', name='num_lines')(categorical_output)\n",
        "\n",
        "  model = Model(input, categorical_output)\n",
        "\n",
        "  # initialize the optimizer, compile the model, and show the model\n",
        "  # summary\n",
        "  opt = Adam()\n",
        "  model.compile(loss=MeanAbsoluteError(), optimizer=opt)\n",
        "  print(\"STRUTTURA MODELLO COMPLETO\")\n",
        "  model.summary()\n",
        "  plot_model(model, to_file=BASE_OUTPUT + '/model.png')\n",
        "\n",
        "  return model"
      ]
    },
    {
      "cell_type": "markdown",
      "metadata": {
        "id": "SdCHoaNbAxQ4"
      },
      "source": [
        "TRAIN FILE"
      ]
    },
    {
      "cell_type": "code",
      "execution_count": null,
      "metadata": {
        "id": "eVjLAtrDTG89"
      },
      "outputs": [],
      "source": [
        "def save_plot(plot_name, H, parameters, title, loss_plot=True):\n",
        "    N = NUM_EPOCHS\n",
        "    plt.style.use(\"ggplot\")\n",
        "    plt.figure()\n",
        "    for parameter in parameters:\n",
        "        plt.plot(np.arange(0, N), H.history[parameter], label=parameter)\n",
        "    plt.title('\\n'.join(wrap(title, 60)))\n",
        "    plt.xlabel(\"Epoch #\")\n",
        "    if loss_plot:\n",
        "        plt.legend(loc=\"upper right\")\n",
        "        plt.ylabel(\"Loss\")\n",
        "    else:\n",
        "        plt.legend(loc=\"lower left\")\n",
        "        plt.ylabel(\"Accuracy\")\n",
        "    plt.savefig(PLOT_PATH + plot_name)"
      ]
    },
    {
      "cell_type": "code",
      "execution_count": null,
      "metadata": {
        "colab": {
          "base_uri": "https://localhost:8080/"
        },
        "id": "QUd4zPx3Avzr",
        "outputId": "6b658b6a-d108-4f5d-cb14-0342abe120bc"
      },
      "outputs": [
        {
          "name": "stdout",
          "output_type": "stream",
          "text": [
            "[INFO] loading dataset...\n",
            "[INFO] saving testing filenames...\n",
            "[INFO] saving training filenames...\n",
            "STRUTTURA VGG16\n",
            "Model: \"vgg16\"\n",
            "_________________________________________________________________\n",
            "Layer (type)                 Output Shape              Param #   \n",
            "=================================================================\n",
            "input_21 (InputLayer)        [(None, None, None, 3)]   0         \n",
            "_________________________________________________________________\n",
            "block1_conv1 (Conv2D)        (None, None, None, 64)    1792      \n",
            "_________________________________________________________________\n",
            "block1_conv2 (Conv2D)        (None, None, None, 64)    36928     \n",
            "_________________________________________________________________\n",
            "block1_pool (MaxPooling2D)   (None, None, None, 64)    0         \n",
            "_________________________________________________________________\n",
            "block2_conv1 (Conv2D)        (None, None, None, 128)   73856     \n",
            "_________________________________________________________________\n",
            "block2_conv2 (Conv2D)        (None, None, None, 128)   147584    \n",
            "_________________________________________________________________\n",
            "block2_pool (MaxPooling2D)   (None, None, None, 128)   0         \n",
            "_________________________________________________________________\n",
            "block3_conv1 (Conv2D)        (None, None, None, 256)   295168    \n",
            "_________________________________________________________________\n",
            "block3_conv2 (Conv2D)        (None, None, None, 256)   590080    \n",
            "_________________________________________________________________\n",
            "block3_conv3 (Conv2D)        (None, None, None, 256)   590080    \n",
            "_________________________________________________________________\n",
            "block3_pool (MaxPooling2D)   (None, None, None, 256)   0         \n",
            "_________________________________________________________________\n",
            "block4_conv1 (Conv2D)        (None, None, None, 512)   1180160   \n",
            "_________________________________________________________________\n",
            "block4_conv2 (Conv2D)        (None, None, None, 512)   2359808   \n",
            "_________________________________________________________________\n",
            "block4_conv3 (Conv2D)        (None, None, None, 512)   2359808   \n",
            "_________________________________________________________________\n",
            "block4_pool (MaxPooling2D)   (None, None, None, 512)   0         \n",
            "_________________________________________________________________\n",
            "block5_conv1 (Conv2D)        (None, None, None, 512)   2359808   \n",
            "_________________________________________________________________\n",
            "block5_conv2 (Conv2D)        (None, None, None, 512)   2359808   \n",
            "_________________________________________________________________\n",
            "block5_conv3 (Conv2D)        (None, None, None, 512)   2359808   \n",
            "_________________________________________________________________\n",
            "block5_pool (MaxPooling2D)   (None, None, None, 512)   0         \n",
            "=================================================================\n",
            "Total params: 14,714,688\n",
            "Trainable params: 7,079,424\n",
            "Non-trainable params: 7,635,264\n",
            "_________________________________________________________________\n",
            "STRUTTURA MODELLO COMPLETO\n",
            "Model: \"model_13\"\n",
            "_________________________________________________________________\n",
            "Layer (type)                 Output Shape              Param #   \n",
            "=================================================================\n",
            "input_20 (InputLayer)        [(None, 224, 224, 3)]     0         \n",
            "_________________________________________________________________\n",
            "vgg16 (Functional)           (None, None, None, 512)   14714688  \n",
            "_________________________________________________________________\n",
            "flatten_13 (Flatten)         (None, 25088)             0         \n",
            "_________________________________________________________________\n",
            "dropout_41 (Dropout)         (None, 25088)             0         \n",
            "_________________________________________________________________\n",
            "num_lines (Dense)            (None, 1)                 25089     \n",
            "=================================================================\n",
            "Total params: 14,739,777\n",
            "Trainable params: 7,104,513\n",
            "Non-trainable params: 7,635,264\n",
            "_________________________________________________________________\n",
            "[INFO] training bounding box regressor...\n",
            "Epoch 1/100\n",
            "24/24 [==============================] - 29s 731ms/step - loss: 3.3650 - val_loss: 0.9671\n",
            "Epoch 2/100\n",
            "24/24 [==============================] - 8s 338ms/step - loss: 1.1002 - val_loss: 0.6666\n",
            "Epoch 3/100\n",
            "24/24 [==============================] - 8s 338ms/step - loss: 0.7253 - val_loss: 0.6519\n",
            "Epoch 4/100\n",
            "24/24 [==============================] - 8s 337ms/step - loss: 0.8274 - val_loss: 0.6046\n",
            "Epoch 5/100\n",
            "24/24 [==============================] - 8s 336ms/step - loss: 0.5638 - val_loss: 0.5520\n",
            "Epoch 6/100\n",
            "24/24 [==============================] - 8s 335ms/step - loss: 0.5442 - val_loss: 0.3458\n",
            "Epoch 7/100\n",
            "24/24 [==============================] - 8s 338ms/step - loss: 0.4482 - val_loss: 0.6112\n",
            "Epoch 8/100\n",
            "24/24 [==============================] - 8s 337ms/step - loss: 0.5395 - val_loss: 0.3407\n",
            "Epoch 9/100\n",
            "24/24 [==============================] - 8s 336ms/step - loss: 0.4881 - val_loss: 0.3285\n",
            "Epoch 10/100\n",
            "24/24 [==============================] - 8s 337ms/step - loss: 0.4897 - val_loss: 0.4142\n",
            "Epoch 11/100\n",
            "24/24 [==============================] - 8s 336ms/step - loss: 0.4532 - val_loss: 0.3153\n",
            "Epoch 12/100\n",
            "24/24 [==============================] - 8s 337ms/step - loss: 0.4625 - val_loss: 0.5393\n",
            "Epoch 13/100\n",
            "24/24 [==============================] - 8s 338ms/step - loss: 0.5029 - val_loss: 0.2956\n",
            "Epoch 14/100\n",
            "24/24 [==============================] - 8s 336ms/step - loss: 0.3939 - val_loss: 0.3068\n",
            "Epoch 15/100\n",
            "24/24 [==============================] - 8s 337ms/step - loss: 0.4494 - val_loss: 0.3352\n",
            "Epoch 16/100\n",
            "24/24 [==============================] - 8s 336ms/step - loss: 0.4085 - val_loss: 0.3161\n",
            "Epoch 17/100\n",
            "24/24 [==============================] - 8s 336ms/step - loss: 0.4267 - val_loss: 0.3818\n",
            "Epoch 18/100\n",
            "24/24 [==============================] - 8s 337ms/step - loss: 0.3947 - val_loss: 0.2794\n",
            "Epoch 19/100\n",
            "24/24 [==============================] - 8s 337ms/step - loss: 0.3870 - val_loss: 0.3204\n",
            "Epoch 20/100\n",
            "24/24 [==============================] - 8s 336ms/step - loss: 0.3803 - val_loss: 0.4447\n",
            "Epoch 21/100\n",
            "24/24 [==============================] - 8s 336ms/step - loss: 0.4510 - val_loss: 0.6695\n",
            "Epoch 22/100\n",
            "24/24 [==============================] - 8s 336ms/step - loss: 0.4483 - val_loss: 0.2734\n",
            "Epoch 23/100\n",
            "24/24 [==============================] - 8s 336ms/step - loss: 0.3492 - val_loss: 0.2676\n",
            "Epoch 24/100\n",
            "24/24 [==============================] - 8s 336ms/step - loss: 0.3547 - val_loss: 0.3072\n",
            "Epoch 25/100\n",
            "24/24 [==============================] - 8s 335ms/step - loss: 0.3063 - val_loss: 0.2859\n",
            "Epoch 26/100\n",
            "24/24 [==============================] - 8s 336ms/step - loss: 0.3369 - val_loss: 0.2608\n",
            "Epoch 27/100\n",
            "24/24 [==============================] - 8s 336ms/step - loss: 0.3240 - val_loss: 0.2311\n",
            "Epoch 28/100\n",
            "24/24 [==============================] - 8s 336ms/step - loss: 0.3025 - val_loss: 0.2930\n",
            "Epoch 29/100\n",
            "24/24 [==============================] - 8s 335ms/step - loss: 0.2889 - val_loss: 0.3065\n",
            "Epoch 30/100\n",
            "24/24 [==============================] - 8s 336ms/step - loss: 0.2994 - val_loss: 0.3220\n",
            "Epoch 31/100\n",
            "24/24 [==============================] - 8s 337ms/step - loss: 0.3391 - val_loss: 0.4126\n",
            "Epoch 32/100\n",
            "24/24 [==============================] - 8s 335ms/step - loss: 0.3318 - val_loss: 0.2789\n",
            "Epoch 33/100\n",
            "24/24 [==============================] - 8s 336ms/step - loss: 0.2747 - val_loss: 0.3145\n",
            "Epoch 34/100\n",
            "24/24 [==============================] - 8s 336ms/step - loss: 0.2794 - val_loss: 0.2544\n",
            "Epoch 35/100\n",
            "24/24 [==============================] - 8s 336ms/step - loss: 0.3306 - val_loss: 0.2742\n",
            "Epoch 36/100\n",
            "24/24 [==============================] - 8s 336ms/step - loss: 0.3246 - val_loss: 0.2600\n",
            "Epoch 37/100\n",
            "24/24 [==============================] - 8s 335ms/step - loss: 0.3095 - val_loss: 0.3296\n",
            "Epoch 38/100\n",
            "24/24 [==============================] - 8s 335ms/step - loss: 0.3862 - val_loss: 0.4254\n",
            "Epoch 39/100\n",
            "24/24 [==============================] - 8s 336ms/step - loss: 0.3105 - val_loss: 0.2477\n",
            "Epoch 40/100\n",
            "24/24 [==============================] - 8s 337ms/step - loss: 0.2585 - val_loss: 0.3071\n",
            "Epoch 41/100\n",
            "24/24 [==============================] - 8s 336ms/step - loss: 0.2630 - val_loss: 0.3091\n",
            "Epoch 42/100\n",
            "24/24 [==============================] - 8s 336ms/step - loss: 0.2945 - val_loss: 0.3622\n",
            "Epoch 43/100\n",
            "24/24 [==============================] - 8s 335ms/step - loss: 0.2899 - val_loss: 0.3078\n",
            "Epoch 44/100\n",
            "24/24 [==============================] - 8s 336ms/step - loss: 0.2790 - val_loss: 0.2617\n",
            "Epoch 45/100\n",
            "24/24 [==============================] - 8s 336ms/step - loss: 0.3143 - val_loss: 0.3177\n",
            "Epoch 47/100\n",
            "24/24 [==============================] - 8s 335ms/step - loss: 0.2619 - val_loss: 0.2394\n",
            "Epoch 48/100\n",
            "24/24 [==============================] - 8s 337ms/step - loss: 0.2853 - val_loss: 0.3061\n",
            "Epoch 49/100\n",
            "24/24 [==============================] - 8s 336ms/step - loss: 0.2383 - val_loss: 0.3455\n",
            "Epoch 50/100\n",
            "24/24 [==============================] - 8s 336ms/step - loss: 0.2523 - val_loss: 0.3584\n",
            "Epoch 51/100\n",
            "24/24 [==============================] - 8s 336ms/step - loss: 0.2613 - val_loss: 0.2230\n",
            "Epoch 52/100\n",
            "24/24 [==============================] - 8s 335ms/step - loss: 0.2314 - val_loss: 0.2188\n",
            "Epoch 53/100\n",
            "24/24 [==============================] - 8s 337ms/step - loss: 0.2742 - val_loss: 0.2607\n",
            "Epoch 54/100\n",
            "24/24 [==============================] - 8s 336ms/step - loss: 0.2659 - val_loss: 0.3206\n",
            "Epoch 55/100\n",
            "24/24 [==============================] - 8s 336ms/step - loss: 0.2970 - val_loss: 0.2963\n",
            "Epoch 56/100\n",
            "24/24 [==============================] - 8s 335ms/step - loss: 0.2672 - val_loss: 0.2627\n",
            "Epoch 57/100\n",
            "24/24 [==============================] - 8s 337ms/step - loss: 0.2421 - val_loss: 0.2813\n",
            "Epoch 58/100\n",
            "24/24 [==============================] - 8s 335ms/step - loss: 0.2421 - val_loss: 0.3304\n",
            "Epoch 59/100\n",
            "24/24 [==============================] - 8s 336ms/step - loss: 0.2480 - val_loss: 0.2345\n",
            "Epoch 60/100\n",
            "24/24 [==============================] - 8s 336ms/step - loss: 0.2237 - val_loss: 0.3490\n",
            "Epoch 61/100\n",
            "24/24 [==============================] - 8s 336ms/step - loss: 0.2897 - val_loss: 0.2321\n",
            "Epoch 62/100\n",
            "24/24 [==============================] - 8s 335ms/step - loss: 0.2687 - val_loss: 0.4943\n",
            "Epoch 63/100\n",
            "24/24 [==============================] - 8s 335ms/step - loss: 0.3435 - val_loss: 0.2605\n",
            "Epoch 64/100\n",
            "24/24 [==============================] - 8s 337ms/step - loss: 0.2225 - val_loss: 0.2647\n",
            "Epoch 65/100\n",
            "24/24 [==============================] - 8s 336ms/step - loss: 0.2530 - val_loss: 0.2558\n",
            "Epoch 66/100\n",
            "24/24 [==============================] - 8s 336ms/step - loss: 0.2274 - val_loss: 0.2425\n",
            "Epoch 67/100\n",
            "24/24 [==============================] - 8s 335ms/step - loss: 0.2222 - val_loss: 0.3192\n",
            "Epoch 68/100\n",
            "24/24 [==============================] - 8s 336ms/step - loss: 0.2392 - val_loss: 0.2560\n",
            "Epoch 69/100\n",
            "24/24 [==============================] - 8s 336ms/step - loss: 0.2143 - val_loss: 0.2553\n",
            "Epoch 70/100\n",
            "24/24 [==============================] - 8s 337ms/step - loss: 0.2099 - val_loss: 0.3071\n",
            "Epoch 71/100\n",
            "24/24 [==============================] - 8s 335ms/step - loss: 0.2384 - val_loss: 0.2473\n",
            "Epoch 72/100\n",
            "24/24 [==============================] - 8s 336ms/step - loss: 0.2211 - val_loss: 0.2236\n",
            "Epoch 73/100\n",
            "24/24 [==============================] - 8s 336ms/step - loss: 0.1980 - val_loss: 0.3445\n",
            "Epoch 74/100\n",
            "24/24 [==============================] - 8s 336ms/step - loss: 0.2123 - val_loss: 0.2370\n",
            "Epoch 75/100\n",
            "24/24 [==============================] - 8s 336ms/step - loss: 0.2159 - val_loss: 0.2554\n",
            "Epoch 76/100\n",
            "24/24 [==============================] - 8s 337ms/step - loss: 0.2506 - val_loss: 0.2694\n",
            "Epoch 77/100\n",
            "24/24 [==============================] - 8s 337ms/step - loss: 0.2462 - val_loss: 0.3234\n",
            "Epoch 78/100\n",
            "24/24 [==============================] - 8s 334ms/step - loss: 0.2572 - val_loss: 0.2293\n",
            "Epoch 79/100\n",
            "24/24 [==============================] - 8s 337ms/step - loss: 0.2072 - val_loss: 0.2738\n",
            "Epoch 80/100\n",
            "24/24 [==============================] - 8s 337ms/step - loss: 0.2318 - val_loss: 0.2427\n",
            "Epoch 81/100\n",
            "24/24 [==============================] - 8s 338ms/step - loss: 0.2032 - val_loss: 0.3153\n",
            "Epoch 82/100\n",
            "24/24 [==============================] - 8s 338ms/step - loss: 0.2375 - val_loss: 0.2173\n",
            "Epoch 83/100\n",
            "24/24 [==============================] - 8s 337ms/step - loss: 0.2055 - val_loss: 0.3305\n",
            "Epoch 84/100\n",
            "24/24 [==============================] - 8s 337ms/step - loss: 0.2288 - val_loss: 0.2232\n",
            "Epoch 85/100\n",
            "24/24 [==============================] - 8s 336ms/step - loss: 0.2657 - val_loss: 0.2353\n",
            "Epoch 86/100\n",
            "24/24 [==============================] - 8s 336ms/step - loss: 0.2347 - val_loss: 0.2039\n",
            "Epoch 87/100\n",
            "24/24 [==============================] - 8s 336ms/step - loss: 0.1906 - val_loss: 0.2051\n",
            "Epoch 88/100\n",
            "24/24 [==============================] - 8s 336ms/step - loss: 0.2012 - val_loss: 0.2519\n",
            "Epoch 89/100\n",
            "24/24 [==============================] - 8s 336ms/step - loss: 0.1984 - val_loss: 0.2103\n",
            "Epoch 90/100\n",
            "24/24 [==============================] - 8s 336ms/step - loss: 0.1894 - val_loss: 0.2124\n",
            "Epoch 91/100\n",
            "24/24 [==============================] - 8s 336ms/step - loss: 0.2049 - val_loss: 0.2278\n",
            "Epoch 92/100\n",
            "24/24 [==============================] - 8s 336ms/step - loss: 0.1769 - val_loss: 0.2387\n",
            "Epoch 93/100\n",
            "24/24 [==============================] - 8s 336ms/step - loss: 0.2082 - val_loss: 0.2264\n",
            "Epoch 94/100\n",
            "24/24 [==============================] - 8s 338ms/step - loss: 0.2022 - val_loss: 0.2300\n",
            "Epoch 95/100\n",
            "24/24 [==============================] - 8s 336ms/step - loss: 0.2561 - val_loss: 0.2194\n",
            "Epoch 96/100\n",
            "24/24 [==============================] - 8s 337ms/step - loss: 0.2153 - val_loss: 0.2312\n",
            "Epoch 97/100\n",
            "24/24 [==============================] - 8s 337ms/step - loss: 0.2293 - val_loss: 0.2482\n",
            "Epoch 98/100\n",
            "24/24 [==============================] - 8s 338ms/step - loss: 0.2614 - val_loss: 0.2162\n",
            "Epoch 99/100\n",
            "24/24 [==============================] - 8s 336ms/step - loss: 0.1781 - val_loss: 0.2261\n",
            "Epoch 100/100\n",
            "24/24 [==============================] - 8s 338ms/step - loss: 0.1959 - val_loss: 0.2714\n",
            "[INFO] saving object detector model...\n"
          ]
        }
      ],
      "source": [
        "# import the necessary packages\n",
        "#from config import *\n",
        "\n",
        "# import tensorflow_addons as tfa\n",
        "from tensorflow.keras.preprocessing.image import img_to_array\n",
        "from tensorflow.keras.preprocessing.image import load_img\n",
        "from sklearn.model_selection import train_test_split\n",
        "import matplotlib.pyplot as plt\n",
        "import numpy as np\n",
        "import cv2\n",
        "import os\n",
        "# from my_model import *\n",
        "from textwrap import wrap\n",
        "\n",
        "# load the contents of the CSV annotations file\n",
        "print(\"[INFO] loading dataset...\")\n",
        "rows = open(ANNOTS_PATH).read().strip().split(\"\\n\")\n",
        "# initialize the list of data (images), our target output predictions\n",
        "# (bounding box coordinates), along with the filenames of the\n",
        "# individual images\n",
        "data = []\n",
        "targets = []\n",
        "axis_targets = []\n",
        "num_lines_targets = []\n",
        "filenames = []\n",
        "\n",
        "# loop over the rows\n",
        "for row in rows:\n",
        "    # break the row into the filename and bounding box coordinates\n",
        "    row = row.split(\",\")\n",
        "    (filename, startX, startY, endX, endY, a_startX, a_startY, a_endX, a_endY, num_lines) = row\n",
        "\n",
        "    # derive the path to the input image, load the image (in OpenCV\n",
        "    # format), and grab its dimensions\n",
        "    imagePath = os.path.sep.join([IMAGES_PATH, filename])\n",
        "    image = cv2.imread(imagePath)\n",
        "    (h, w) = image.shape[:2]\n",
        "    # scale the bounding box coordinates relative to the spatial\n",
        "    # dimensions of the input image\n",
        "    startX = float(startX) / w\n",
        "    startY = float(startY) / h\n",
        "    endX = float(endX) / w\n",
        "    endY = float(endY) / h\n",
        "    a_startX = float(a_startX) / w\n",
        "    a_startY = float(a_startY) / h\n",
        "    a_endX = float(a_endX) / w\n",
        "    a_endY = float(a_endY) / h\n",
        "\n",
        "    # load the image and preprocess it\n",
        "    image = load_img(imagePath, target_size=(MIN_HEIGHT, MIN_WIDTH))\n",
        "    image = img_to_array(image)\n",
        "    # update our list of data, targets, and filenames\n",
        "    data.append(image)\n",
        "    targets.append((startX, startY, endX, endY))\n",
        "    axis_targets.append((a_startX, a_startY, a_endX, a_endY))\n",
        "    # array = [0] * MAX_NUM_LINES\n",
        "    # array[int(num_lines) - 1] = 1\n",
        "    num_lines_targets.append(int(num_lines))\n",
        "    filenames.append(filename)\n",
        "\n",
        "# convert the data and targets to NumPy arrays, scaling the input\n",
        "# pixel intensities from the range [0, 255] to [0, 1]\n",
        "data = np.array(data, dtype=\"float32\") / 255.0\n",
        "targets = np.array(targets, dtype=\"float32\")\n",
        "axis_targets = np.array(axis_targets, dtype=\"float32\")\n",
        "num_lines_targets = np.array(num_lines_targets, dtype=\"float32\")\n",
        "# partition the data into training and testing splits using 90% of\n",
        "# the data for training and the remaining 10% for testing\n",
        "split = train_test_split(data, targets, axis_targets, num_lines_targets, filenames, test_size=0.20,\n",
        "                         random_state=42)\n",
        "\n",
        "# unpack the data split\n",
        "(trainImages, testImages) = split[:2]\n",
        "(trainTargets, testTargets) = split[2:4]\n",
        "(train_axis_Targets, test_axis_Targets) = split[4:6]\n",
        "(train_num_lines_Targets, test_num_lines_Targets) = split[6:8]\n",
        "(trainFilenames, testFilenames) = split[8:]\n",
        "\n",
        "# write the testing filenames to disk so that we can use then\n",
        "# when evaluating/testing our bounding box regressor\n",
        "print(\"[INFO] saving testing filenames...\")\n",
        "f = open(TEST_FILENAMES, \"w\")\n",
        "f.write(\"\\n\".join(testFilenames))\n",
        "f.close()\n",
        "\n",
        "print(\"[INFO] saving training filenames...\")\n",
        "f = open(TRAIN_FILENAMES, \"w\")\n",
        "f.write(\"\\n\".join(trainFilenames))\n",
        "f.close()\n",
        "\n",
        "# for image, target, a_target, nl_target in zip(trainImages, trainTargets, train_axis_Targets, train_num_lines_Targets):\n",
        "#     print(image, target, a_target)\n",
        "#     break\n",
        "\n",
        "model = get_model()\n",
        "\n",
        "# train the network for bounding box regression\n",
        "print(\"[INFO] training bounding box regressor...\")\n",
        "H = model.fit(\n",
        "    trainImages, train_num_lines_Targets,\n",
        "    validation_data=(testImages, test_num_lines_Targets),\n",
        "    batch_size=BATCH_SIZE,\n",
        "    epochs=NUM_EPOCHS,\n",
        "    verbose=1)\n",
        "\n",
        "# serialize the model to disk\n",
        "print(\"[INFO] saving object detector model...\")\n",
        "model.save(MODEL_PATH, save_format=\"h5\")\n",
        "# plot the model training history"
      ]
    },
    {
      "cell_type": "markdown",
      "metadata": {
        "id": "xwNOqEmxq9jw"
      },
      "source": [
        "Disegna i grafici"
      ]
    },
    {
      "cell_type": "code",
      "execution_count": null,
      "metadata": {
        "colab": {
          "base_uri": "https://localhost:8080/",
          "height": 299
        },
        "id": "6tSLnKW5AoDG",
        "outputId": "6791ac67-a3ba-423a-cc0e-a95162df1e3c"
      },
      "outputs": [
        {
          "data": {
            "image/png": "[encoded data removed]",
            "text/plain": [
              "<Figure size 432x288 with 1 Axes>"
            ]
          },
          "metadata": {
            "tags": []
          },
          "output_type": "display_data"
        }
      ],
      "source": [
        "save_plot('total_loss.png', H, ['loss', 'val_loss'], 'Total loss on Training and Validation Sets')\n",
        "# save_plot('legend_loss.png', H, ['legend_bbox_loss', 'val_legend_bbox_loss'], 'Legend MAE loss on Training and Validation Sets')\n",
        "# save_plot('axis_loss.png', H, ['axis_bbox_loss', 'val_axis_bbox_loss'], 'Axis MAE loss on Training and Validation Sets')\n",
        "# save_plot('num_lines_loss.png', H, ['num_lines_loss', 'val_num_lines_loss'], 'num_lines MAE loss on Training and Validation Sets')\n",
        "\n",
        "# save_plot('legend_mae.png', H, ['legend_bbox_mae', 'val_legend_bbox_mae'], 'Legend MAE loss on Training and Validation Sets')\n",
        "# save_plot('axis_mae.png', H, ['axis_bbox_mae', 'val_axis_bbox_mae'], 'Axis MAE loss on Training and Validation Sets')\n",
        "# save_plot('num_lines_mae.png', H, ['num_lines_mae', 'val_num_lines_mae'], 'num_lines MAE loss on Training and Validation Sets')\n",
        "\n",
        "# save_plot('num_lines_accuracy.png', H, ['num_lines_accuracy', 'val_num_lines_accuracy'], 'Accuracy of num lines prediction on Test and Validation sets', loss_plot=False)"
      ]
    },
    {
      "cell_type": "markdown",
      "metadata": {
        "id": "NRv3pCo7A6C9"
      },
      "source": [
        "PREDICT FILE"
      ]
    },
    {
      "cell_type": "code",
      "execution_count": null,
      "metadata": {
        "colab": {
          "base_uri": "https://localhost:8080/",
          "height": 1000
        },
        "id": "FYzoArgHA9WE",
        "outputId": "e00f6362-a8fc-49fa-a191-5f194636fd39"
      },
      "outputs": [
        {
          "name": "stdout",
          "output_type": "stream",
          "text": [
            "predire su training (1) o su validation (2)?: 2\n",
            "[INFO] loading object detector...\n",
            "legend_dataset/Annotated_images/00490-10.1.1.18.7410-Figure-1.png\n",
            "numero di linee attuale: 2\n",
            "risultato originale predetto: 1.999874\n",
            "numero di linee predetto dell'immagine: 2\n"
          ]
        },
        {
          "data": {
            "image/png": "[encoded data removed]",
            "text/plain": [
              "<PIL.Image.Image image mode=RGB size=243x44 at 0x7F3F6010FE50>"
            ]
          },
          "metadata": {
            "tags": []
          },
          "output_type": "display_data"
        },
        {
          "name": "stdout",
          "output_type": "stream",
          "text": [
            "legend_dataset/Annotated_images/01493-10.1.1.132.2653-Figure-11.png\n",
            "numero di linee attuale: 3\n",
            "risultato originale predetto: 2.7998123\n",
            "numero di linee predetto dell'immagine: 3\n"
          ]
        },
        {
          "data": {
            "image/png": "[encoded data removed]",
            "text/plain": [
              "<PIL.Image.Image image mode=RGB size=159x77 at 0x7F3EB38E7690>"
            ]
          },
          "metadata": {
            "tags": []
          },
          "output_type": "display_data"
        },
        {
          "name": "stdout",
          "output_type": "stream",
          "text": [
            "legend_dataset/Annotated_images/00079-10.1.1.149.7852-Figure-2.png\n",
            "numero di linee attuale: 3\n",
            "risultato originale predetto: 2.4586098\n",
            "numero di linee predetto dell'immagine: 2\n"
          ]
        },
        {
          "data": {
            "image/png": "[encoded data removed]",
            "text/plain": [
              "<PIL.Image.Image image mode=RGB size=223x39 at 0x7F3F6008E650>"
            ]
          },
          "metadata": {
            "tags": []
          },
          "output_type": "display_data"
        },
        {
          "name": "stdout",
          "output_type": "stream",
          "text": [
            "legend_dataset/Annotated_images/00178-10.1.1.39.8052-Figure-6.png\n",
            "numero di linee attuale: 4\n",
            "risultato originale predetto: 4.1534557\n",
            "numero di linee predetto dell'immagine: 4\n"
          ]
        },
        {
          "data": {
            "image/png": "[encoded data removed]",
            "text/plain": [
              "<PIL.Image.Image image mode=RGB size=361x85 at 0x7F3EB0F4FE50>"
            ]
          },
          "metadata": {
            "tags": []
          },
          "output_type": "display_data"
        },
        {
          "name": "stdout",
          "output_type": "stream",
          "text": [
            "legend_dataset/Annotated_images/02662-10.1.1.367.8234-Figure-6.png\n",
            "numero di linee attuale: 2\n",
            "risultato originale predetto: 2.001147\n",
            "numero di linee predetto dell'immagine: 2\n"
          ]
        },
        {
          "data": {
            "image/png": "[encoded data removed]",
            "text/plain": [
              "<PIL.Image.Image image mode=RGB size=165x53 at 0x7F3EB10E1790>"
            ]
          },
          "metadata": {
            "tags": []
          },
          "output_type": "display_data"
        },
        {
          "name": "stdout",
          "output_type": "stream",
          "text": [
            "legend_dataset/Annotated_images/03180-10.1.1.14.3650-Figure-2.png\n",
            "numero di linee attuale: 2\n",
            "risultato originale predetto: 2.0228953\n",
            "numero di linee predetto dell'immagine: 2\n"
          ]
        },
        {
          "data": {
            "image/png": "[encoded data removed]",
            "text/plain": [
              "<PIL.Image.Image image mode=RGB size=162x31 at 0x7F3EB10BFB90>"
            ]
          },
          "metadata": {
            "tags": []
          },
          "output_type": "display_data"
        },
        {
          "name": "stdout",
          "output_type": "stream",
          "text": [
            "legend_dataset/Annotated_images/01217-10.1.1.170.2394-Figure-3.png\n",
            "numero di linee attuale: 5\n",
            "risultato originale predetto: 4.556607\n",
            "numero di linee predetto dell'immagine: 5\n"
          ]
        },
        {
          "data": {
            "image/png": "[encoded data removed]",
            "text/plain": [
              "<PIL.Image.Image image mode=RGB size=170x117 at 0x7F3F6008C790>"
            ]
          },
          "metadata": {
            "tags": []
          },
          "output_type": "display_data"
        },
        {
          "name": "stdout",
          "output_type": "stream",
          "text": [
            "legend_dataset/Annotated_images/00286-10.1.1.225.6195-Figure-4.png\n",
            "numero di linee attuale: 5\n",
            "risultato originale predetto: 3.994801\n",
            "numero di linee predetto dell'immagine: 4\n"
          ]
        },
        {
          "data": {
            "image/png": "[encoded data removed]",
            "text/plain": [
              "<PIL.Image.Image image mode=RGB size=174x103 at 0x7F3EB0F70810>"
            ]
          },
          "metadata": {
            "tags": []
          },
          "output_type": "display_data"
        },
        {
          "name": "stdout",
          "output_type": "stream",
          "text": [
            "legend_dataset/Annotated_images/01024-10.1.1.408.772-Figure-4.png\n",
            "numero di linee attuale: 2\n",
            "risultato originale predetto: 1.999874\n",
            "numero di linee predetto dell'immagine: 2\n"
          ]
        },
        {
          "data": {
            "image/png": "[encoded data removed]",
            "text/plain": [
              "<PIL.Image.Image image mode=RGB size=132x32 at 0x7F3EB0F707D0>"
            ]
          },
          "metadata": {
            "tags": []
          },
          "output_type": "display_data"
        },
        {
          "name": "stdout",
          "output_type": "stream",
          "text": [
            "legend_dataset/Annotated_images/00916-10.1.1.368.1401-Figure-6.png\n",
            "numero di linee attuale: 2\n",
            "risultato originale predetto: 1.999874\n",
            "numero di linee predetto dell'immagine: 2\n"
          ]
        },
        {
          "data": {
            "image/png": "[encoded data removed]",
            "text/plain": [
              "<PIL.Image.Image image mode=RGB size=199x46 at 0x7F3F600DB8D0>"
            ]
          },
          "metadata": {
            "tags": []
          },
          "output_type": "display_data"
        },
        {
          "name": "stdout",
          "output_type": "stream",
          "text": [
            "legend_dataset/Annotated_images/00161-10.1.1.37.1152-Figure-12.png\n",
            "numero di linee attuale: 4\n",
            "risultato originale predetto: 3.7788024\n",
            "numero di linee predetto dell'immagine: 4\n"
          ]
        },
        {
          "data": {
            "image/png": "[encoded data removed]",
            "text/plain": [
              "<PIL.Image.Image image mode=RGB size=356x127 at 0x7F3F60053550>"
            ]
          },
          "metadata": {
            "tags": []
          },
          "output_type": "display_data"
        },
        {
          "name": "stdout",
          "output_type": "stream",
          "text": [
            "legend_dataset/Annotated_images/02126-10.1.1.385.5289-Figure-7.png\n",
            "numero di linee attuale: 3\n",
            "risultato originale predetto: 2.9538007\n",
            "numero di linee predetto dell'immagine: 3\n"
          ]
        },
        {
          "data": {
            "image/png": "[encoded data removed]",
            "text/plain": [
              "<PIL.Image.Image image mode=RGB size=91x63 at 0x7F3EB0F70810>"
            ]
          },
          "metadata": {
            "tags": []
          },
          "output_type": "display_data"
        },
        {
          "name": "stdout",
          "output_type": "stream",
          "text": [
            "legend_dataset/Annotated_images/03064-10.1.1.318.2358-Figure-6.png\n",
            "numero di linee attuale: 4\n",
            "risultato originale predetto: 4.196591\n",
            "numero di linee predetto dell'immagine: 4\n"
          ]
        },
        {
          "data": {
            "image/png": "[encoded data removed]",
            "text/plain": [
              "<PIL.Image.Image image mode=RGB size=219x153 at 0x7F3EB10ADBD0>"
            ]
          },
          "metadata": {
            "tags": []
          },
          "output_type": "display_data"
        },
        {
          "name": "stdout",
          "output_type": "stream",
          "text": [
            "legend_dataset/Annotated_images/02534-10.1.1.393.71-Figure-3.png\n",
            "numero di linee attuale: 5\n",
            "risultato originale predetto: 4.344241\n",
            "numero di linee predetto dell'immagine: 4\n"
          ]
        },
        {
          "data": {
            "image/png": "[encoded data removed]",
            "text/plain": [
              "<PIL.Image.Image image mode=RGB size=189x89 at 0x7F3EB10AD510>"
            ]
          },
          "metadata": {
            "tags": []
          },
          "output_type": "display_data"
        },
        {
          "name": "stdout",
          "output_type": "stream",
          "text": [
            "legend_dataset/Annotated_images/01883-10.1.1.36.1710-Figure-14.png\n",
            "numero di linee attuale: 3\n",
            "risultato originale predetto: 2.860569\n",
            "numero di linee predetto dell'immagine: 3\n"
          ]
        },
        {
          "data": {
            "image/png": "[encoded data removed]",
            "text/plain": [
              "<PIL.Image.Image image mode=RGB size=241x69 at 0x7F3EB111C490>"
            ]
          },
          "metadata": {
            "tags": []
          },
          "output_type": "display_data"
        },
        {
          "name": "stdout",
          "output_type": "stream",
          "text": [
            "legend_dataset/Annotated_images/00749-10.1.1.208.3744-Figure-5.png\n",
            "numero di linee attuale: 5\n",
            "risultato originale predetto: 4.758686\n",
            "numero di linee predetto dell'immagine: 5\n"
          ]
        },
        {
          "data": {
            "image/png": "[encoded data removed]",
            "text/plain": [
              "<PIL.Image.Image image mode=RGB size=170x111 at 0x7F3EB111EB10>"
            ]
          },
          "metadata": {
            "tags": []
          },
          "output_type": "display_data"
        },
        {
          "name": "stdout",
          "output_type": "stream",
          "text": [
            "legend_dataset/Annotated_images/02460-10.1.1.15.3331-Figure-5.png\n",
            "numero di linee attuale: 2\n",
            "risultato originale predetto: 2.2031965\n",
            "numero di linee predetto dell'immagine: 2\n"
          ]
        },
        {
          "data": {
            "image/png": "[encoded data removed]",
            "text/plain": [
              "<PIL.Image.Image image mode=RGB size=130x70 at 0x7F3EB1115C90>"
            ]
          },
          "metadata": {
            "tags": []
          },
          "output_type": "display_data"
        },
        {
          "name": "stdout",
          "output_type": "stream",
          "text": [
            "legend_dataset/Annotated_images/03119-10.1.1.228.6129-Figure-6.png\n",
            "numero di linee attuale: 3\n",
            "risultato originale predetto: 2.5917225\n",
            "numero di linee predetto dell'immagine: 3\n"
          ]
        },
        {
          "data": {
            "image/png": "[encoded data removed]",
            "text/plain": [
              "<PIL.Image.Image image mode=RGB size=231x46 at 0x7F3EB1115F10>"
            ]
          },
          "metadata": {
            "tags": []
          },
          "output_type": "display_data"
        },
        {
          "name": "stdout",
          "output_type": "stream",
          "text": [
            "legend_dataset/Annotated_images/00589-10.1.1.172.7415-Figure-3.png\n",
            "numero di linee attuale: 3\n",
            "risultato originale predetto: 2.66605\n",
            "numero di linee predetto dell'immagine: 3\n"
          ]
        },
        {
          "data": {
            "image/png": "[encoded data removed]",
            "text/plain": [
              "<PIL.Image.Image image mode=RGB size=88x40 at 0x7F3EB1115590>"
            ]
          },
          "metadata": {
            "tags": []
          },
          "output_type": "display_data"
        },
        {
          "name": "stdout",
          "output_type": "stream",
          "text": [
            "legend_dataset/Annotated_images/02347-10.1.1.397.4173-Figure-1.png\n",
            "numero di linee attuale: 2\n",
            "risultato originale predetto: 1.999874\n",
            "numero di linee predetto dell'immagine: 2\n"
          ]
        },
        {
          "data": {
            "image/png": "[encoded data removed]",
            "text/plain": [
              "<PIL.Image.Image image mode=RGB size=92x54 at 0x7F3EB10C7710>"
            ]
          },
          "metadata": {
            "tags": []
          },
          "output_type": "display_data"
        },
        {
          "name": "stdout",
          "output_type": "stream",
          "text": [
            "legend_dataset/Annotated_images/01053-10.1.1.132.396-Figure-4.png\n",
            "numero di linee attuale: 4\n",
            "risultato originale predetto: 1.999874\n",
            "numero di linee predetto dell'immagine: 2\n"
          ]
        },
        {
          "data": {
            "image/png": "[encoded data removed]",
            "text/plain": [
              "<PIL.Image.Image image mode=RGB size=303x52 at 0x7F3EB111EB10>"
            ]
          },
          "metadata": {
            "tags": []
          },
          "output_type": "display_data"
        },
        {
          "name": "stdout",
          "output_type": "stream",
          "text": [
            "legend_dataset/Annotated_images/00861-10.1.1.152.6073-Figure-2.png\n",
            "numero di linee attuale: 4\n",
            "risultato originale predetto: 3.7561555\n",
            "numero di linee predetto dell'immagine: 4\n"
          ]
        },
        {
          "data": {
            "image/png": "[encoded data removed]",
            "text/plain": [
              "<PIL.Image.Image image mode=RGB size=263x76 at 0x7F3EB117ED50>"
            ]
          },
          "metadata": {
            "tags": []
          },
          "output_type": "display_data"
        },
        {
          "name": "stdout",
          "output_type": "stream",
          "text": [
            "legend_dataset/Annotated_images/00106-10.1.1.50.6953-Figure-10.png\n",
            "numero di linee attuale: 3\n",
            "risultato originale predetto: 2.6317048\n",
            "numero di linee predetto dell'immagine: 3\n"
          ]
        },
        {
          "data": {
            "image/png": "[encoded data removed]",
            "text/plain": [
              "<PIL.Image.Image image mode=RGB size=127x60 at 0x7F3F6008D310>"
            ]
          },
          "metadata": {
            "tags": []
          },
          "output_type": "display_data"
        },
        {
          "name": "stdout",
          "output_type": "stream",
          "text": [
            "legend_dataset/Annotated_images/02614-10.1.1.231.6389-Figure-9.png\n",
            "numero di linee attuale: 5\n",
            "risultato originale predetto: 5.335871\n",
            "numero di linee predetto dell'immagine: 5\n"
          ]
        },
        {
          "data": {
            "image/png": "[encoded data removed]",
            "text/plain": [
              "<PIL.Image.Image image mode=RGB size=281x96 at 0x7F3EB0F51610>"
            ]
          },
          "metadata": {
            "tags": []
          },
          "output_type": "display_data"
        },
        {
          "name": "stdout",
          "output_type": "stream",
          "text": [
            "legend_dataset/Annotated_images/01244-10.1.1.46.8532-Figure-3.png\n",
            "numero di linee attuale: 4\n",
            "risultato originale predetto: 3.875772\n",
            "numero di linee predetto dell'immagine: 4\n"
          ]
        },
        {
          "data": {
            "image/png": "[encoded data removed]",
            "text/plain": [
              "<PIL.Image.Image image mode=RGB size=134x96 at 0x7F3EB0F9EF90>"
            ]
          },
          "metadata": {
            "tags": []
          },
          "output_type": "display_data"
        },
        {
          "name": "stdout",
          "output_type": "stream",
          "text": [
            "legend_dataset/Annotated_images/02748-10.1.1.187.6294-Figure-6.png\n",
            "numero di linee attuale: 2\n",
            "risultato originale predetto: 3.0997279\n",
            "numero di linee predetto dell'immagine: 3\n"
          ]
        },
        {
          "data": {
            "image/png": "[encoded data removed]",
            "text/plain": [
              "<PIL.Image.Image image mode=RGB size=240x36 at 0x7F3EB4C11090>"
            ]
          },
          "metadata": {
            "tags": []
          },
          "output_type": "display_data"
        },
        {
          "name": "stdout",
          "output_type": "stream",
          "text": [
            "legend_dataset/Annotated_images/01230-10.1.1.24.7632-Figure-2.png\n",
            "numero di linee attuale: 2\n",
            "risultato originale predetto: 1.999874\n",
            "numero di linee predetto dell'immagine: 2\n"
          ]
        },
        {
          "data": {
            "image/png": "[encoded data removed]",
            "text/plain": [
              "<PIL.Image.Image image mode=RGB size=137x34 at 0x7F3EB110E190>"
            ]
          },
          "metadata": {
            "tags": []
          },
          "output_type": "display_data"
        },
        {
          "name": "stdout",
          "output_type": "stream",
          "text": [
            "legend_dataset/Annotated_images/02972-10.1.1.408.504-Figure-8.png\n",
            "numero di linee attuale: 5\n",
            "risultato originale predetto: 5.0421333\n",
            "numero di linee predetto dell'immagine: 5\n"
          ]
        },
        {
          "data": {
            "image/png": "[encoded data removed]",
            "text/plain": [
              "<PIL.Image.Image image mode=RGB size=119x106 at 0x7F3EB4CD5650>"
            ]
          },
          "metadata": {
            "tags": []
          },
          "output_type": "display_data"
        },
        {
          "name": "stdout",
          "output_type": "stream",
          "text": [
            "legend_dataset/Annotated_images/00725-10.1.1.218.202-Figure-4.png\n",
            "numero di linee attuale: 6\n",
            "risultato originale predetto: 3.049954\n",
            "numero di linee predetto dell'immagine: 3\n"
          ]
        },
        {
          "data": {
            "image/png": "[encoded data removed]",
            "text/plain": [
              "<PIL.Image.Image image mode=RGB size=247x104 at 0x7F3EB10BF590>"
            ]
          },
          "metadata": {
            "tags": []
          },
          "output_type": "display_data"
        },
        {
          "name": "stdout",
          "output_type": "stream",
          "text": [
            "legend_dataset/Annotated_images/02850-10.1.1.421.2931-Figure-4.png\n",
            "numero di linee attuale: 2\n",
            "risultato originale predetto: 1.999874\n",
            "numero di linee predetto dell'immagine: 2\n"
          ]
        },
        {
          "data": {
            "image/png": "[encoded data removed]",
            "text/plain": [
              "<PIL.Image.Image image mode=RGB size=262x53 at 0x7F3EB1113BD0>"
            ]
          },
          "metadata": {
            "tags": []
          },
          "output_type": "display_data"
        },
        {
          "name": "stdout",
          "output_type": "stream",
          "text": [
            "legend_dataset/Annotated_images/02624-10.1.1.167.3821-Figure-3.png\n",
            "numero di linee attuale: 2\n",
            "risultato originale predetto: 1.999874\n",
            "numero di linee predetto dell'immagine: 2\n"
          ]
        },
        {
          "data": {
            "image/png": "[encoded data removed]",
            "text/plain": [
              "<PIL.Image.Image image mode=RGB size=160x45 at 0x7F3EB10E2C50>"
            ]
          },
          "metadata": {
            "tags": []
          },
          "output_type": "display_data"
        },
        {
          "name": "stdout",
          "output_type": "stream",
          "text": [
            "legend_dataset/Annotated_images/01318-10.1.1.314.9616-Figure-6.png\n",
            "numero di linee attuale: 3\n",
            "risultato originale predetto: 2.639207\n",
            "numero di linee predetto dell'immagine: 3\n"
          ]
        },
        {
          "data": {
            "image/png": "[encoded data removed]",
            "text/plain": [
              "<PIL.Image.Image image mode=RGB size=145x54 at 0x7F3F60069950>"
            ]
          },
          "metadata": {
            "tags": []
          },
          "output_type": "display_data"
        },
        {
          "name": "stdout",
          "output_type": "stream",
          "text": [
            "legend_dataset/Annotated_images/02191-10.1.1.107.1966-Figure-4.png\n",
            "numero di linee attuale: 3\n",
            "risultato originale predetto: 2.7427397\n",
            "numero di linee predetto dell'immagine: 3\n"
          ]
        },
        {
          "data": {
            "image/png": "[encoded data removed]",
            "text/plain": [
              "<PIL.Image.Image image mode=RGB size=85x46 at 0x7F3EB110EBD0>"
            ]
          },
          "metadata": {
            "tags": []
          },
          "output_type": "display_data"
        },
        {
          "name": "stdout",
          "output_type": "stream",
          "text": [
            "legend_dataset/Annotated_images/00904-10.1.1.167.5438-Figure-3.png\n",
            "numero di linee attuale: 4\n",
            "risultato originale predetto: 3.524456\n",
            "numero di linee predetto dell'immagine: 4\n"
          ]
        },
        {
          "data": {
            "image/png": "[encoded data removed]",
            "text/plain": [
              "<PIL.Image.Image image mode=RGB size=161x58 at 0x7F3EB4C27290>"
            ]
          },
          "metadata": {
            "tags": []
          },
          "output_type": "display_data"
        },
        {
          "name": "stdout",
          "output_type": "stream",
          "text": [
            "legend_dataset/Annotated_images/03155-10.1.1.150.8670-Figure-3.png\n",
            "numero di linee attuale: 4\n",
            "risultato originale predetto: 4.052601\n",
            "numero di linee predetto dell'immagine: 4\n"
          ]
        },
        {
          "data": {
            "image/png": "[encoded data removed]",
            "text/plain": [
              "<PIL.Image.Image image mode=RGB size=262x76 at 0x7F3EB0F10F90>"
            ]
          },
          "metadata": {
            "tags": []
          },
          "output_type": "display_data"
        },
        {
          "name": "stdout",
          "output_type": "stream",
          "text": [
            "legend_dataset/Annotated_images/02687-10.1.1.320.1735-Figure-3.png\n",
            "numero di linee attuale: 4\n",
            "risultato originale predetto: 3.5527024\n",
            "numero di linee predetto dell'immagine: 4\n"
          ]
        },
        {
          "data": {
            "image/png": "[encoded data removed]",
            "text/plain": [
              "<PIL.Image.Image image mode=RGB size=83x58 at 0x7F3EB0F7C910>"
            ]
          },
          "metadata": {
            "tags": []
          },
          "output_type": "display_data"
        },
        {
          "name": "stdout",
          "output_type": "stream",
          "text": [
            "legend_dataset/Annotated_images/01246-10.1.1.224.9900-Figure-12.png\n",
            "numero di linee attuale: 2\n",
            "risultato originale predetto: 1.999874\n",
            "numero di linee predetto dell'immagine: 2\n"
          ]
        },
        {
          "data": {
            "image/png": "[encoded data removed]",
            "text/plain": [
              "<PIL.Image.Image image mode=RGB size=119x37 at 0x7F3EB4CE3690>"
            ]
          },
          "metadata": {
            "tags": []
          },
          "output_type": "display_data"
        },
        {
          "name": "stdout",
          "output_type": "stream",
          "text": [
            "legend_dataset/Annotated_images/01160-10.1.1.205.9731-Figure-5.png\n",
            "numero di linee attuale: 4\n",
            "risultato originale predetto: 3.982833\n",
            "numero di linee predetto dell'immagine: 4\n"
          ]
        },
        {
          "data": {
            "image/png": "[encoded data removed]",
            "text/plain": [
              "<PIL.Image.Image image mode=RGB size=155x76 at 0x7F3F6007FFD0>"
            ]
          },
          "metadata": {
            "tags": []
          },
          "output_type": "display_data"
        },
        {
          "name": "stdout",
          "output_type": "stream",
          "text": [
            "legend_dataset/Annotated_images/01765-10.1.1.117.6081-Figure-4.png\n",
            "numero di linee attuale: 3\n",
            "risultato originale predetto: 2.8218498\n",
            "numero di linee predetto dell'immagine: 3\n"
          ]
        },
        {
          "data": {
            "image/png": "[encoded data removed]",
            "text/plain": [
              "<PIL.Image.Image image mode=RGB size=216x135 at 0x7F3EB0F2F350>"
            ]
          },
          "metadata": {
            "tags": []
          },
          "output_type": "display_data"
        },
        {
          "name": "stdout",
          "output_type": "stream",
          "text": [
            "legend_dataset/Annotated_images/00258-10.1.1.39.8052-Figure-5.png\n",
            "numero di linee attuale: 4\n",
            "risultato originale predetto: 3.7909915\n",
            "numero di linee predetto dell'immagine: 4\n"
          ]
        },
        {
          "data": {
            "image/png": "[encoded data removed]",
            "text/plain": [
              "<PIL.Image.Image image mode=RGB size=304x83 at 0x7F3EB0F2F450>"
            ]
          },
          "metadata": {
            "tags": []
          },
          "output_type": "display_data"
        },
        {
          "name": "stdout",
          "output_type": "stream",
          "text": [
            "legend_dataset/Annotated_images/00612-10.1.1.117.6081-Figure-1.png\n",
            "numero di linee attuale: 3\n",
            "risultato originale predetto: 2.76872\n",
            "numero di linee predetto dell'immagine: 3\n"
          ]
        },
        {
          "data": {
            "image/png": "[encoded data removed]",
            "text/plain": [
              "<PIL.Image.Image image mode=RGB size=107x47 at 0x7F3F60069C90>"
            ]
          },
          "metadata": {
            "tags": []
          },
          "output_type": "display_data"
        },
        {
          "name": "stdout",
          "output_type": "stream",
          "text": [
            "legend_dataset/Annotated_images/02600-10.1.1.394.1549-Figure-7.png\n",
            "numero di linee attuale: 9\n",
            "risultato originale predetto: 4.4133005\n",
            "numero di linee predetto dell'immagine: 4\n"
          ]
        },
        {
          "data": {
            "image/png": "[encoded data removed]",
            "text/plain": [
              "<PIL.Image.Image image mode=RGB size=155x256 at 0x7F3EB0F75950>"
            ]
          },
          "metadata": {
            "tags": []
          },
          "output_type": "display_data"
        },
        {
          "name": "stdout",
          "output_type": "stream",
          "text": [
            "legend_dataset/Annotated_images/00819-10.1.1.208.7348-Figure-6.png\n",
            "numero di linee attuale: 5\n",
            "risultato originale predetto: 5.128541\n",
            "numero di linee predetto dell'immagine: 5\n"
          ]
        },
        {
          "data": {
            "image/png": "[encoded data removed]",
            "text/plain": [
              "<PIL.Image.Image image mode=RGB size=153x114 at 0x7F3EB0F75D50>"
            ]
          },
          "metadata": {
            "tags": []
          },
          "output_type": "display_data"
        },
        {
          "name": "stdout",
          "output_type": "stream",
          "text": [
            "legend_dataset/Annotated_images/00685-10.1.1.308.144-Figure-4.png\n",
            "numero di linee attuale: 10\n",
            "risultato originale predetto: 5.256332\n",
            "numero di linee predetto dell'immagine: 5\n"
          ]
        },
        {
          "data": {
            "image/png": "[encoded data removed]",
            "text/plain": [
              "<PIL.Image.Image image mode=RGB size=105x225 at 0x7F3EB0F21BD0>"
            ]
          },
          "metadata": {
            "tags": []
          },
          "output_type": "display_data"
        },
        {
          "name": "stdout",
          "output_type": "stream",
          "text": [
            "legend_dataset/Annotated_images/03108-10.1.1.401.2455-Figure-2.png\n",
            "numero di linee attuale: 4\n",
            "risultato originale predetto: 3.1569862\n",
            "numero di linee predetto dell'immagine: 3\n"
          ]
        },
        {
          "data": {
            "image/png": "[encoded data removed]",
            "text/plain": [
              "<PIL.Image.Image image mode=RGB size=145x58 at 0x7F3EB0F51490>"
            ]
          },
          "metadata": {
            "tags": []
          },
          "output_type": "display_data"
        },
        {
          "name": "stdout",
          "output_type": "stream",
          "text": [
            "legend_dataset/Annotated_images/01063-10.1.1.421.5324-Figure-1.png\n",
            "numero di linee attuale: 3\n",
            "risultato originale predetto: 3.1048741\n",
            "numero di linee predetto dell'immagine: 3\n"
          ]
        },
        {
          "data": {
            "image/png": "[encoded data removed]",
            "text/plain": [
              "<PIL.Image.Image image mode=RGB size=193x88 at 0x7F3EB110E950>"
            ]
          },
          "metadata": {
            "tags": []
          },
          "output_type": "display_data"
        },
        {
          "name": "stdout",
          "output_type": "stream",
          "text": [
            "legend_dataset/Annotated_images/00650-10.1.1.366.1909-Figure-4.png\n",
            "numero di linee attuale: 3\n",
            "risultato originale predetto: 3.1681397\n",
            "numero di linee predetto dell'immagine: 3\n"
          ]
        },
        {
          "data": {
            "image/png": "[encoded data removed]",
            "text/plain": [
              "<PIL.Image.Image image mode=RGB size=324x95 at 0x7F3EB1128150>"
            ]
          },
          "metadata": {
            "tags": []
          },
          "output_type": "display_data"
        },
        {
          "name": "stdout",
          "output_type": "stream",
          "text": [
            "legend_dataset/Annotated_images/02997-10.1.1.42.3255-Figure-7.png\n",
            "numero di linee attuale: 4\n",
            "risultato originale predetto: 4.026047\n",
            "numero di linee predetto dell'immagine: 4\n"
          ]
        },
        {
          "data": {
            "image/png": "[encoded data removed]",
            "text/plain": [
              "<PIL.Image.Image image mode=RGB size=169x59 at 0x7F3EB1128450>"
            ]
          },
          "metadata": {
            "tags": []
          },
          "output_type": "display_data"
        },
        {
          "name": "stdout",
          "output_type": "stream",
          "text": [
            "legend_dataset/Annotated_images/02618-10.1.1.140.9693-Figure-2.png\n",
            "numero di linee attuale: 5\n",
            "risultato originale predetto: 5.433103\n",
            "numero di linee predetto dell'immagine: 5\n"
          ]
        },
        {
          "data": {
            "image/png": "[encoded data removed]",
            "text/plain": [
              "<PIL.Image.Image image mode=RGB size=208x86 at 0x7F3EB11284D0>"
            ]
          },
          "metadata": {
            "tags": []
          },
          "output_type": "display_data"
        },
        {
          "name": "stdout",
          "output_type": "stream",
          "text": [
            "legend_dataset/Annotated_images/00069-10.1.1.29.3097-Figure-4.png\n",
            "numero di linee attuale: 2\n",
            "risultato originale predetto: 2.8748543\n",
            "numero di linee predetto dell'immagine: 3\n"
          ]
        },
        {
          "data": {
            "image/png": "[encoded data removed]",
            "text/plain": [
              "<PIL.Image.Image image mode=RGB size=130x82 at 0x7F3F600533D0>"
            ]
          },
          "metadata": {
            "tags": []
          },
          "output_type": "display_data"
        },
        {
          "name": "stdout",
          "output_type": "stream",
          "text": [
            "legend_dataset/Annotated_images/01043-10.1.1.298.189-Figure-2.png\n",
            "numero di linee attuale: 6\n",
            "risultato originale predetto: 6.198264\n",
            "numero di linee predetto dell'immagine: 6\n"
          ]
        },
        {
          "data": {
            "image/png": "[encoded data removed]",
            "text/plain": [
              "<PIL.Image.Image image mode=RGB size=190x118 at 0x7F3EB10E8290>"
            ]
          },
          "metadata": {
            "tags": []
          },
          "output_type": "display_data"
        },
        {
          "name": "stdout",
          "output_type": "stream",
          "text": [
            "legend_dataset/Annotated_images/01020-10.1.1.112.6853-Figure-7.png\n",
            "numero di linee attuale: 4\n",
            "risultato originale predetto: 3.0253112\n",
            "numero di linee predetto dell'immagine: 3\n"
          ]
        },
        {
          "data": {
            "image/png": "[encoded data removed]",
            "text/plain": [
              "<PIL.Image.Image image mode=RGB size=242x208 at 0x7F3EB0F9E2D0>"
            ]
          },
          "metadata": {
            "tags": []
          },
          "output_type": "display_data"
        },
        {
          "name": "stdout",
          "output_type": "stream",
          "text": [
            "legend_dataset/Annotated_images/02777-10.1.1.348.4141-Figure-3.png\n",
            "numero di linee attuale: 2\n",
            "risultato originale predetto: 2.0064523\n",
            "numero di linee predetto dell'immagine: 2\n"
          ]
        },
        {
          "data": {
            "image/png": "[encoded data removed]",
            "text/plain": [
              "<PIL.Image.Image image mode=RGB size=105x48 at 0x7F3EB119FA10>"
            ]
          },
          "metadata": {
            "tags": []
          },
          "output_type": "display_data"
        },
        {
          "name": "stdout",
          "output_type": "stream",
          "text": [
            "legend_dataset/Annotated_images/02842-10.1.1.306.7483-Figure-7.png\n",
            "numero di linee attuale: 7\n",
            "risultato originale predetto: 8.709907\n",
            "numero di linee predetto dell'immagine: 9\n"
          ]
        },
        {
          "data": {
            "image/png": "[encoded data removed]",
            "text/plain": [
              "<PIL.Image.Image image mode=RGB size=209x110 at 0x7F3EB10B2350>"
            ]
          },
          "metadata": {
            "tags": []
          },
          "output_type": "display_data"
        },
        {
          "name": "stdout",
          "output_type": "stream",
          "text": [
            "legend_dataset/Annotated_images/00817-10.1.1.107.8456-Figure-3.png\n",
            "numero di linee attuale: 2\n",
            "risultato originale predetto: 2.3765843\n",
            "numero di linee predetto dell'immagine: 2\n"
          ]
        },
        {
          "data": {
            "image/png": "[encoded data removed]",
            "text/plain": [
              "<PIL.Image.Image image mode=RGB size=459x29 at 0x7F3EB0F114D0>"
            ]
          },
          "metadata": {
            "tags": []
          },
          "output_type": "display_data"
        },
        {
          "name": "stdout",
          "output_type": "stream",
          "text": [
            "legend_dataset/Annotated_images/01058-10.1.1.208.4085-Figure-5.png\n",
            "numero di linee attuale: 4\n",
            "risultato originale predetto: 3.8180444\n",
            "numero di linee predetto dell'immagine: 4\n"
          ]
        },
        {
          "data": {
            "image/png": "[encoded data removed]",
            "text/plain": [
              "<PIL.Image.Image image mode=RGB size=206x116 at 0x7F3EB10E8390>"
            ]
          },
          "metadata": {
            "tags": []
          },
          "output_type": "display_data"
        },
        {
          "name": "stdout",
          "output_type": "stream",
          "text": [
            "legend_dataset/Annotated_images/00232-10.1.1.190.9949-Figure-5.png\n",
            "numero di linee attuale: 3\n",
            "risultato originale predetto: 2.8492665\n",
            "numero di linee predetto dell'immagine: 3\n"
          ]
        },
        {
          "data": {
            "image/png": "[encoded data removed]",
            "text/plain": [
              "<PIL.Image.Image image mode=RGB size=232x70 at 0x7F3EB0F78890>"
            ]
          },
          "metadata": {
            "tags": []
          },
          "output_type": "display_data"
        },
        {
          "name": "stdout",
          "output_type": "stream",
          "text": [
            "legend_dataset/Annotated_images/00183-10.1.1.107.7761-Figure-2.png\n",
            "numero di linee attuale: 2\n",
            "risultato originale predetto: 1.999874\n",
            "numero di linee predetto dell'immagine: 2\n"
          ]
        },
        {
          "data": {
            "image/png": "[encoded data removed]",
            "text/plain": [
              "<PIL.Image.Image image mode=RGB size=148x36 at 0x7F3EB10C7A90>"
            ]
          },
          "metadata": {
            "tags": []
          },
          "output_type": "display_data"
        },
        {
          "name": "stdout",
          "output_type": "stream",
          "text": [
            "legend_dataset/Annotated_images/02712-10.1.1.149.7852-Figure-4.png\n",
            "numero di linee attuale: 5\n",
            "risultato originale predetto: 2.1654704\n",
            "numero di linee predetto dell'immagine: 2\n"
          ]
        },
        {
          "data": {
            "image/png": "[encoded data removed]",
            "text/plain": [
              "<PIL.Image.Image image mode=RGB size=437x38 at 0x7F3EB10F39D0>"
            ]
          },
          "metadata": {
            "tags": []
          },
          "output_type": "display_data"
        },
        {
          "name": "stdout",
          "output_type": "stream",
          "text": [
            "legend_dataset/Annotated_images/02164-10.1.1.218.85-Figure-13.png\n",
            "numero di linee attuale: 2\n",
            "risultato originale predetto: 1.999874\n",
            "numero di linee predetto dell'immagine: 2\n"
          ]
        },
        {
          "data": {
            "image/png": "[encoded data removed]",
            "text/plain": [
              "<PIL.Image.Image image mode=RGB size=146x46 at 0x7F3F6008DD50>"
            ]
          },
          "metadata": {
            "tags": []
          },
          "output_type": "display_data"
        },
        {
          "name": "stdout",
          "output_type": "stream",
          "text": [
            "legend_dataset/Annotated_images/00674-10.1.1.164.3655-Figure-3.png\n",
            "numero di linee attuale: 2\n",
            "risultato originale predetto: 1.999874\n",
            "numero di linee predetto dell'immagine: 2\n"
          ]
        },
        {
          "data": {
            "image/png": "[encoded data removed]",
            "text/plain": [
              "<PIL.Image.Image image mode=RGB size=108x29 at 0x7F3EB1113850>"
            ]
          },
          "metadata": {
            "tags": []
          },
          "output_type": "display_data"
        },
        {
          "name": "stdout",
          "output_type": "stream",
          "text": [
            "legend_dataset/Annotated_images/01904-10.1.1.113.6022-Figure-2.png\n",
            "numero di linee attuale: 8\n",
            "risultato originale predetto: 3.950282\n",
            "numero di linee predetto dell'immagine: 4\n"
          ]
        },
        {
          "data": {
            "image/png": "[encoded data removed]",
            "text/plain": [
              "<PIL.Image.Image image mode=RGB size=104x102 at 0x7F3F60075310>"
            ]
          },
          "metadata": {
            "tags": []
          },
          "output_type": "display_data"
        },
        {
          "name": "stdout",
          "output_type": "stream",
          "text": [
            "legend_dataset/Annotated_images/01938-10.1.1.378.5484-Figure-1.png\n",
            "numero di linee attuale: 3\n",
            "risultato originale predetto: 2.9373937\n",
            "numero di linee predetto dell'immagine: 3\n"
          ]
        },
        {
          "data": {
            "image/png": "[encoded data removed]",
            "text/plain": [
              "<PIL.Image.Image image mode=RGB size=231x82 at 0x7F3F600625D0>"
            ]
          },
          "metadata": {
            "tags": []
          },
          "output_type": "display_data"
        },
        {
          "name": "stdout",
          "output_type": "stream",
          "text": [
            "legend_dataset/Annotated_images/02421-10.1.1.4.133-Figure-4.png\n",
            "numero di linee attuale: 2\n",
            "risultato originale predetto: 1.9436417\n",
            "numero di linee predetto dell'immagine: 2\n"
          ]
        },
        {
          "data": {
            "image/png": "[encoded data removed]",
            "text/plain": [
              "<PIL.Image.Image image mode=RGB size=183x55 at 0x7F3EB4C11B90>"
            ]
          },
          "metadata": {
            "tags": []
          },
          "output_type": "display_data"
        },
        {
          "name": "stdout",
          "output_type": "stream",
          "text": [
            "legend_dataset/Annotated_images/02118-10.1.1.113.4764-Figure-2.png\n",
            "numero di linee attuale: 6\n",
            "risultato originale predetto: 6.4364686\n",
            "numero di linee predetto dell'immagine: 6\n"
          ]
        },
        {
          "data": {
            "image/png": "[encoded data removed]",
            "text/plain": [
              "<PIL.Image.Image image mode=RGB size=167x99 at 0x7F3EB4CB3F90>"
            ]
          },
          "metadata": {
            "tags": []
          },
          "output_type": "display_data"
        },
        {
          "name": "stdout",
          "output_type": "stream",
          "text": [
            "legend_dataset/Annotated_images/01681-10.1.1.164.3678-Figure-8.png\n",
            "numero di linee attuale: 2\n",
            "risultato originale predetto: 1.999874\n",
            "numero di linee predetto dell'immagine: 2\n"
          ]
        },
        {
          "data": {
            "image/png": "[encoded data removed]",
            "text/plain": [
              "<PIL.Image.Image image mode=RGB size=154x30 at 0x7F3EB0F57BD0>"
            ]
          },
          "metadata": {
            "tags": []
          },
          "output_type": "display_data"
        },
        {
          "name": "stdout",
          "output_type": "stream",
          "text": [
            "legend_dataset/Annotated_images/03334-10.1.1.153.7148-Figure-4.png\n",
            "numero di linee attuale: 2\n",
            "risultato originale predetto: 1.8315254\n",
            "numero di linee predetto dell'immagine: 2\n"
          ]
        },
        {
          "data": {
            "image/png": "[encoded data removed]",
            "text/plain": [
              "<PIL.Image.Image image mode=RGB size=125x71 at 0x7F3EB0EB7C90>"
            ]
          },
          "metadata": {
            "tags": []
          },
          "output_type": "display_data"
        },
        {
          "name": "stdout",
          "output_type": "stream",
          "text": [
            "legend_dataset/Annotated_images/02676-10.1.1.301.3656-Figure-2.png\n",
            "numero di linee attuale: 3\n",
            "risultato originale predetto: 2.8473792\n",
            "numero di linee predetto dell'immagine: 3\n"
          ]
        },
        {
          "data": {
            "image/png": "[encoded data removed]",
            "text/plain": [
              "<PIL.Image.Image image mode=RGB size=127x69 at 0x7F3EB1113C50>"
            ]
          },
          "metadata": {
            "tags": []
          },
          "output_type": "display_data"
        },
        {
          "name": "stdout",
          "output_type": "stream",
          "text": [
            "legend_dataset/Annotated_images/00649-10.1.1.408.9944-Figure-5.png\n",
            "numero di linee attuale: 4\n",
            "risultato originale predetto: 3.8707395\n",
            "numero di linee predetto dell'immagine: 4\n"
          ]
        },
        {
          "data": {
            "image/png": "[encoded data removed]",
            "text/plain": [
              "<PIL.Image.Image image mode=RGB size=137x70 at 0x7F3EB10C7BD0>"
            ]
          },
          "metadata": {
            "tags": []
          },
          "output_type": "display_data"
        },
        {
          "name": "stdout",
          "output_type": "stream",
          "text": [
            "legend_dataset/Annotated_images/00835-10.1.1.2.9380-Figure-10.png\n",
            "numero di linee attuale: 4\n",
            "risultato originale predetto: 4.016158\n",
            "numero di linee predetto dell'immagine: 4\n"
          ]
        },
        {
          "data": {
            "image/png": "[encoded data removed]",
            "text/plain": [
              "<PIL.Image.Image image mode=RGB size=148x50 at 0x7F3EB0ED3490>"
            ]
          },
          "metadata": {
            "tags": []
          },
          "output_type": "display_data"
        },
        {
          "name": "stdout",
          "output_type": "stream",
          "text": [
            "legend_dataset/Annotated_images/01016-10.1.1.51.1574-Figure-1.png\n",
            "numero di linee attuale: 2\n",
            "risultato originale predetto: 2.1250513\n",
            "numero di linee predetto dell'immagine: 2\n"
          ]
        },
        {
          "data": {
            "image/png": "[encoded data removed]",
            "text/plain": [
              "<PIL.Image.Image image mode=RGB size=73x79 at 0x7F3EB111E350>"
            ]
          },
          "metadata": {
            "tags": []
          },
          "output_type": "display_data"
        },
        {
          "name": "stdout",
          "output_type": "stream",
          "text": [
            "legend_dataset/Annotated_images/02162-10.1.1.331.9577-Figure-3.png\n",
            "numero di linee attuale: 6\n",
            "risultato originale predetto: 4.007665\n",
            "numero di linee predetto dell'immagine: 4\n"
          ]
        },
        {
          "data": {
            "image/png": "[encoded data removed]",
            "text/plain": [
              "<PIL.Image.Image image mode=RGB size=87x165 at 0x7F3EB0F31E50>"
            ]
          },
          "metadata": {
            "tags": []
          },
          "output_type": "display_data"
        },
        {
          "name": "stdout",
          "output_type": "stream",
          "text": [
            "legend_dataset/Annotated_images/00191-10.1.1.150.8513-Figure-3.png\n",
            "numero di linee attuale: 2\n",
            "risultato originale predetto: 1.999874\n",
            "numero di linee predetto dell'immagine: 2\n"
          ]
        },
        {
          "data": {
            "image/png": "[encoded data removed]",
            "text/plain": [
              "<PIL.Image.Image image mode=RGB size=109x31 at 0x7F3EB1178990>"
            ]
          },
          "metadata": {
            "tags": []
          },
          "output_type": "display_data"
        },
        {
          "name": "stdout",
          "output_type": "stream",
          "text": [
            "legend_dataset/Annotated_images/00404-10.1.1.352.6958-Figure-7.png\n",
            "numero di linee attuale: 5\n",
            "risultato originale predetto: 5.0256977\n",
            "numero di linee predetto dell'immagine: 5\n"
          ]
        },
        {
          "data": {
            "image/png": "[encoded data removed]",
            "text/plain": [
              "<PIL.Image.Image image mode=RGB size=225x118 at 0x7F3EB10B2210>"
            ]
          },
          "metadata": {
            "tags": []
          },
          "output_type": "display_data"
        },
        {
          "name": "stdout",
          "output_type": "stream",
          "text": [
            "legend_dataset/Annotated_images/00120-10.1.1.43.5263-Figure-2.png\n",
            "numero di linee attuale: 3\n",
            "risultato originale predetto: 2.6490824\n",
            "numero di linee predetto dell'immagine: 3\n"
          ]
        },
        {
          "data": {
            "image/png": "[encoded data removed]",
            "text/plain": [
              "<PIL.Image.Image image mode=RGB size=439x63 at 0x7F3EB0F89290>"
            ]
          },
          "metadata": {
            "tags": []
          },
          "output_type": "display_data"
        },
        {
          "name": "stdout",
          "output_type": "stream",
          "text": [
            "legend_dataset/Annotated_images/02058-10.1.1.50.958-Figure-2.png\n",
            "numero di linee attuale: 3\n",
            "risultato originale predetto: 2.8510258\n",
            "numero di linee predetto dell'immagine: 3\n"
          ]
        },
        {
          "data": {
            "image/png": "[encoded data removed]",
            "text/plain": [
              "<PIL.Image.Image image mode=RGB size=190x122 at 0x7F3EB3964B10>"
            ]
          },
          "metadata": {
            "tags": []
          },
          "output_type": "display_data"
        },
        {
          "name": "stdout",
          "output_type": "stream",
          "text": [
            "legend_dataset/Annotated_images/00792-10.1.1.19.9370-Figure-3.png\n",
            "numero di linee attuale: 4\n",
            "risultato originale predetto: 3.8211794\n",
            "numero di linee predetto dell'immagine: 4\n"
          ]
        },
        {
          "data": {
            "image/png": "[encoded data removed]",
            "text/plain": [
              "<PIL.Image.Image image mode=RGB size=146x338 at 0x7F3EB10C8E10>"
            ]
          },
          "metadata": {
            "tags": []
          },
          "output_type": "display_data"
        },
        {
          "name": "stdout",
          "output_type": "stream",
          "text": [
            "legend_dataset/Annotated_images/00965-10.1.1.135.2750-Figure-4.png\n",
            "numero di linee attuale: 4\n",
            "risultato originale predetto: 3.5783434\n",
            "numero di linee predetto dell'immagine: 4\n"
          ]
        },
        {
          "data": {
            "image/png": "[encoded data removed]",
            "text/plain": [
              "<PIL.Image.Image image mode=RGB size=99x79 at 0x7F3EB0F75F10>"
            ]
          },
          "metadata": {
            "tags": []
          },
          "output_type": "display_data"
        },
        {
          "name": "stdout",
          "output_type": "stream",
          "text": [
            "legend_dataset/Annotated_images/00468-10.1.1.332.8945-Figure-10.png\n",
            "numero di linee attuale: 2\n",
            "risultato originale predetto: 1.999874\n",
            "numero di linee predetto dell'immagine: 2\n"
          ]
        },
        {
          "data": {
            "image/png": "[encoded data removed]",
            "text/plain": [
              "<PIL.Image.Image image mode=RGB size=141x48 at 0x7F3EB10DACD0>"
            ]
          },
          "metadata": {
            "tags": []
          },
          "output_type": "display_data"
        },
        {
          "name": "stdout",
          "output_type": "stream",
          "text": [
            "legend_dataset/Annotated_images/00328-10.1.1.385.5289-Figure-11.png\n",
            "numero di linee attuale: 3\n",
            "risultato originale predetto: 2.9548697\n",
            "numero di linee predetto dell'immagine: 3\n"
          ]
        },
        {
          "data": {
            "image/png": "[encoded data removed]",
            "text/plain": [
              "<PIL.Image.Image image mode=RGB size=159x76 at 0x7F3EB117E290>"
            ]
          },
          "metadata": {
            "tags": []
          },
          "output_type": "display_data"
        },
        {
          "name": "stdout",
          "output_type": "stream",
          "text": [
            "legend_dataset/Annotated_images/00503-10.1.1.139.2575-Figure-5.png\n",
            "numero di linee attuale: 4\n",
            "risultato originale predetto: 4.0140243\n",
            "numero di linee predetto dell'immagine: 4\n"
          ]
        },
        {
          "data": {
            "image/png": "[encoded data removed]",
            "text/plain": [
              "<PIL.Image.Image image mode=RGB size=89x70 at 0x7F3F6007C950>"
            ]
          },
          "metadata": {
            "tags": []
          },
          "output_type": "display_data"
        },
        {
          "name": "stdout",
          "output_type": "stream",
          "text": [
            "legend_dataset/Annotated_images/00938-10.1.1.182.9583-Figure-7.png\n",
            "numero di linee attuale: 3\n",
            "risultato originale predetto: 2.988725\n",
            "numero di linee predetto dell'immagine: 3\n"
          ]
        },
        {
          "data": {
            "image/png": "[encoded data removed]",
            "text/plain": [
              "<PIL.Image.Image image mode=RGB size=97x80 at 0x7F3EB14EEB90>"
            ]
          },
          "metadata": {
            "tags": []
          },
          "output_type": "display_data"
        },
        {
          "name": "stdout",
          "output_type": "stream",
          "text": [
            "legend_dataset/Annotated_images/01698-10.1.1.329.7070-Figure-8.png\n",
            "numero di linee attuale: 6\n",
            "risultato originale predetto: 6.3037086\n",
            "numero di linee predetto dell'immagine: 6\n"
          ]
        },
        {
          "data": {
            "image/png": "[encoded data removed]",
            "text/plain": [
              "<PIL.Image.Image image mode=RGB size=183x150 at 0x7F3EB14EE7D0>"
            ]
          },
          "metadata": {
            "tags": []
          },
          "output_type": "display_data"
        },
        {
          "name": "stdout",
          "output_type": "stream",
          "text": [
            "legend_dataset/Annotated_images/02115-10.1.1.363.3689-Figure-5.png\n",
            "numero di linee attuale: 2\n",
            "risultato originale predetto: 1.999874\n",
            "numero di linee predetto dell'immagine: 2\n"
          ]
        },
        {
          "data": {
            "image/png": "[encoded data removed]",
            "text/plain": [
              "<PIL.Image.Image image mode=RGB size=105x29 at 0x7F3F6007C2D0>"
            ]
          },
          "metadata": {
            "tags": []
          },
          "output_type": "display_data"
        },
        {
          "name": "stdout",
          "output_type": "stream",
          "text": [
            "legend_dataset/Annotated_images/01071-10.1.1.421.2931-Figure-2.png\n",
            "numero di linee attuale: 2\n",
            "risultato originale predetto: 1.999874\n",
            "numero di linee predetto dell'immagine: 2\n"
          ]
        },
        {
          "data": {
            "image/png": "[encoded data removed]",
            "text/plain": [
              "<PIL.Image.Image image mode=RGB size=124x66 at 0x7F3EB1093E10>"
            ]
          },
          "metadata": {
            "tags": []
          },
          "output_type": "display_data"
        },
        {
          "name": "stdout",
          "output_type": "stream",
          "text": [
            "legend_dataset/Annotated_images/01082-10.1.1.138.5468-Figure-8.png\n",
            "numero di linee attuale: 4\n",
            "risultato originale predetto: 3.9239154\n",
            "numero di linee predetto dell'immagine: 4\n"
          ]
        },
        {
          "data": {
            "image/png": "[encoded data removed]",
            "text/plain": [
              "<PIL.Image.Image image mode=RGB size=223x122 at 0x7F3EB127CE50>"
            ]
          },
          "metadata": {
            "tags": []
          },
          "output_type": "display_data"
        },
        {
          "name": "stdout",
          "output_type": "stream",
          "text": [
            "legend_dataset/Annotated_images/02857-10.1.1.331.8404-Figure-6.png\n",
            "numero di linee attuale: 5\n",
            "risultato originale predetto: 5.11692\n",
            "numero di linee predetto dell'immagine: 5\n"
          ]
        },
        {
          "data": {
            "image/png": "[encoded data removed]",
            "text/plain": [
              "<PIL.Image.Image image mode=RGB size=152x90 at 0x7F3EB3A61850>"
            ]
          },
          "metadata": {
            "tags": []
          },
          "output_type": "display_data"
        },
        {
          "name": "stdout",
          "output_type": "stream",
          "text": [
            "legend_dataset/Annotated_images/03152-10.1.1.105.8827-Figure-9.png\n",
            "numero di linee attuale: 3\n",
            "risultato originale predetto: 2.962888\n",
            "numero di linee predetto dell'immagine: 3\n"
          ]
        },
        {
          "data": {
            "image/png": "[encoded data removed]",
            "text/plain": [
              "<PIL.Image.Image image mode=RGB size=234x71 at 0x7F3EB1578A50>"
            ]
          },
          "metadata": {
            "tags": []
          },
          "output_type": "display_data"
        },
        {
          "name": "stdout",
          "output_type": "stream",
          "text": [
            "legend_dataset/Annotated_images/03130-10.1.1.421.8044-Figure-4.png\n",
            "numero di linee attuale: 4\n",
            "risultato originale predetto: 3.5170236\n",
            "numero di linee predetto dell'immagine: 4\n"
          ]
        },
        {
          "data": {
            "image/png": "[encoded data removed]",
            "text/plain": [
              "<PIL.Image.Image image mode=RGB size=180x65 at 0x7F3EB3A613D0>"
            ]
          },
          "metadata": {
            "tags": []
          },
          "output_type": "display_data"
        },
        {
          "name": "stdout",
          "output_type": "stream",
          "text": [
            "legend_dataset/Annotated_images/00942-10.1.1.324.2945-Figure-4.png\n",
            "numero di linee attuale: 2\n",
            "risultato originale predetto: 1.999874\n",
            "numero di linee predetto dell'immagine: 2\n"
          ]
        },
        {
          "data": {
            "image/png": "[encoded data removed]",
            "text/plain": [
              "<PIL.Image.Image image mode=RGB size=143x52 at 0x7F3F602EAC50>"
            ]
          },
          "metadata": {
            "tags": []
          },
          "output_type": "display_data"
        },
        {
          "name": "stdout",
          "output_type": "stream",
          "text": [
            "legend_dataset/Annotated_images/02536-10.1.1.385.5289-Figure-5.png\n",
            "numero di linee attuale: 4\n",
            "risultato originale predetto: 4.291131\n",
            "numero di linee predetto dell'immagine: 4\n"
          ]
        },
        {
          "data": {
            "image/png": "[encoded data removed]",
            "text/plain": [
              "<PIL.Image.Image image mode=RGB size=223x82 at 0x7F3F60411510>"
            ]
          },
          "metadata": {
            "tags": []
          },
          "output_type": "display_data"
        },
        {
          "name": "stdout",
          "output_type": "stream",
          "text": [
            "legend_dataset/Annotated_images/00154-10.1.1.152.9748-Figure-2.png\n",
            "numero di linee attuale: 2\n",
            "risultato originale predetto: 1.999874\n",
            "numero di linee predetto dell'immagine: 2\n"
          ]
        },
        {
          "data": {
            "image/png": "[encoded data removed]",
            "text/plain": [
              "<PIL.Image.Image image mode=RGB size=160x40 at 0x7F3F600FD610>"
            ]
          },
          "metadata": {
            "tags": []
          },
          "output_type": "display_data"
        },
        {
          "name": "stdout",
          "output_type": "stream",
          "text": [
            "legend_dataset/Annotated_images/01566-10.1.1.208.2318-Figure-10.png\n",
            "numero di linee attuale: 2\n",
            "risultato originale predetto: 1.999874\n",
            "numero di linee predetto dell'immagine: 2\n"
          ]
        },
        {
          "data": {
            "image/png": "[encoded data removed]",
            "text/plain": [
              "<PIL.Image.Image image mode=RGB size=132x50 at 0x7F3F600FD610>"
            ]
          },
          "metadata": {
            "tags": []
          },
          "output_type": "display_data"
        },
        {
          "name": "stdout",
          "output_type": "stream",
          "text": [
            "legend_dataset/Annotated_images/00524-10.1.1.231.837-Figure-8.png\n",
            "numero di linee attuale: 2\n",
            "risultato originale predetto: 1.999874\n",
            "numero di linee predetto dell'immagine: 2\n"
          ]
        },
        {
          "data": {
            "image/png": "[encoded data removed]",
            "text/plain": [
              "<PIL.Image.Image image mode=RGB size=51x42 at 0x7F3EB1295850>"
            ]
          },
          "metadata": {
            "tags": []
          },
          "output_type": "display_data"
        },
        {
          "name": "stdout",
          "output_type": "stream",
          "text": [
            "legend_dataset/Annotated_images/01748-10.1.1.422.6729-Figure-5.png\n",
            "numero di linee attuale: 2\n",
            "risultato originale predetto: 1.8527348\n",
            "numero di linee predetto dell'immagine: 2\n"
          ]
        },
        {
          "data": {
            "image/png": "[encoded data removed]",
            "text/plain": [
              "<PIL.Image.Image image mode=RGB size=150x55 at 0x7F3EB27F9A90>"
            ]
          },
          "metadata": {
            "tags": []
          },
          "output_type": "display_data"
        },
        {
          "name": "stdout",
          "output_type": "stream",
          "text": [
            "legend_dataset/Annotated_images/02435-10.1.1.148.6426-Figure-3.png\n",
            "numero di linee attuale: 6\n",
            "risultato originale predetto: 6.06766\n",
            "numero di linee predetto dell'immagine: 6\n"
          ]
        },
        {
          "data": {
            "image/png": "[encoded data removed]",
            "text/plain": [
              "<PIL.Image.Image image mode=RGB size=88x100 at 0x7F3EB39CF590>"
            ]
          },
          "metadata": {
            "tags": []
          },
          "output_type": "display_data"
        },
        {
          "name": "stdout",
          "output_type": "stream",
          "text": [
            "legend_dataset/Annotated_images/02517-10.1.1.302.7829-Figure-4.png\n",
            "numero di linee attuale: 3\n",
            "risultato originale predetto: 2.8258438\n",
            "numero di linee predetto dell'immagine: 3\n"
          ]
        },
        {
          "data": {
            "image/png": "[encoded data removed]",
            "text/plain": [
              "<PIL.Image.Image image mode=RGB size=259x112 at 0x7F3EB39CFB10>"
            ]
          },
          "metadata": {
            "tags": []
          },
          "output_type": "display_data"
        },
        {
          "name": "stdout",
          "output_type": "stream",
          "text": [
            "legend_dataset/Annotated_images/02510-10.1.1.4.5252-Figure-2.png\n",
            "numero di linee attuale: 2\n",
            "risultato originale predetto: 1.999874\n",
            "numero di linee predetto dell'immagine: 2\n"
          ]
        },
        {
          "data": {
            "image/png": "[encoded data removed]",
            "text/plain": [
              "<PIL.Image.Image image mode=RGB size=139x40 at 0x7F3EB4AD4BD0>"
            ]
          },
          "metadata": {
            "tags": []
          },
          "output_type": "display_data"
        },
        {
          "name": "stdout",
          "output_type": "stream",
          "text": [
            "legend_dataset/Annotated_images/00175-10.1.1.153.3551-Figure-6.png\n",
            "numero di linee attuale: 4\n",
            "risultato originale predetto: 3.6110432\n",
            "numero di linee predetto dell'immagine: 4\n"
          ]
        },
        {
          "data": {
            "image/png": "[encoded data removed]",
            "text/plain": [
              "<PIL.Image.Image image mode=RGB size=245x110 at 0x7F3F6010B910>"
            ]
          },
          "metadata": {
            "tags": []
          },
          "output_type": "display_data"
        },
        {
          "name": "stdout",
          "output_type": "stream",
          "text": [
            "legend_dataset/Annotated_images/02223-10.1.1.101.7661-Figure-6.png\n",
            "numero di linee attuale: 2\n",
            "risultato originale predetto: 3.6854217\n",
            "numero di linee predetto dell'immagine: 4\n"
          ]
        },
        {
          "data": {
            "image/png": "[encoded data removed]",
            "text/plain": [
              "<PIL.Image.Image image mode=RGB size=190x97 at 0x7F3EB10A08D0>"
            ]
          },
          "metadata": {
            "tags": []
          },
          "output_type": "display_data"
        },
        {
          "name": "stdout",
          "output_type": "stream",
          "text": [
            "legend_dataset/Annotated_images/01408-10.1.1.384.8537-Figure-4.png\n",
            "numero di linee attuale: 4\n",
            "risultato originale predetto: 3.9362803\n",
            "numero di linee predetto dell'immagine: 4\n"
          ]
        },
        {
          "data": {
            "image/png": "[encoded data removed]",
            "text/plain": [
              "<PIL.Image.Image image mode=RGB size=62x55 at 0x7F3EB3A61E10>"
            ]
          },
          "metadata": {
            "tags": []
          },
          "output_type": "display_data"
        },
        {
          "name": "stdout",
          "output_type": "stream",
          "text": [
            "legend_dataset/Annotated_images/02928-10.1.1.297.5275-Figure-2.png\n",
            "numero di linee attuale: 2\n",
            "risultato originale predetto: 1.999874\n",
            "numero di linee predetto dell'immagine: 2\n"
          ]
        },
        {
          "data": {
            "image/png": "[encoded data removed]",
            "text/plain": [
              "<PIL.Image.Image image mode=RGB size=93x43 at 0x7F3EB11EF650>"
            ]
          },
          "metadata": {
            "tags": []
          },
          "output_type": "display_data"
        },
        {
          "name": "stdout",
          "output_type": "stream",
          "text": [
            "legend_dataset/Annotated_images/02617-10.1.1.149.4426-Figure-3.png\n",
            "numero di linee attuale: 3\n",
            "risultato originale predetto: 2.879971\n",
            "numero di linee predetto dell'immagine: 3\n"
          ]
        },
        {
          "data": {
            "image/png": "[encoded data removed]",
            "text/plain": [
              "<PIL.Image.Image image mode=RGB size=84x56 at 0x7F3EB1295C10>"
            ]
          },
          "metadata": {
            "tags": []
          },
          "output_type": "display_data"
        },
        {
          "name": "stdout",
          "output_type": "stream",
          "text": [
            "legend_dataset/Annotated_images/00765-10.1.1.306.7483-Figure-6.png\n",
            "numero di linee attuale: 7\n",
            "risultato originale predetto: 7.975306\n",
            "numero di linee predetto dell'immagine: 8\n"
          ]
        },
        {
          "data": {
            "image/png": "[encoded data removed]",
            "text/plain": [
              "<PIL.Image.Image image mode=RGB size=207x109 at 0x7F3EB39CF790>"
            ]
          },
          "metadata": {
            "tags": []
          },
          "output_type": "display_data"
        },
        {
          "name": "stdout",
          "output_type": "stream",
          "text": [
            "legend_dataset/Annotated_images/01469-10.1.1.348.4141-Figure-5.png\n",
            "numero di linee attuale: 2\n",
            "risultato originale predetto: 1.999874\n",
            "numero di linee predetto dell'immagine: 2\n"
          ]
        },
        {
          "data": {
            "image/png": "[encoded data removed]",
            "text/plain": [
              "<PIL.Image.Image image mode=RGB size=86x48 at 0x7F3EB39CFB90>"
            ]
          },
          "metadata": {
            "tags": []
          },
          "output_type": "display_data"
        },
        {
          "name": "stdout",
          "output_type": "stream",
          "text": [
            "legend_dataset/Annotated_images/00295-10.1.1.366.9604-Figure-3.png\n",
            "numero di linee attuale: 2\n",
            "risultato originale predetto: 1.999874\n",
            "numero di linee predetto dell'immagine: 2\n"
          ]
        },
        {
          "data": {
            "image/png": "[encoded data removed]",
            "text/plain": [
              "<PIL.Image.Image image mode=RGB size=118x29 at 0x7F3F64FA3ED0>"
            ]
          },
          "metadata": {
            "tags": []
          },
          "output_type": "display_data"
        },
        {
          "name": "stdout",
          "output_type": "stream",
          "text": [
            "legend_dataset/Annotated_images/02990-10.1.1.217.6984-Figure-2.png\n",
            "numero di linee attuale: 3\n",
            "risultato originale predetto: 2.2670376\n",
            "numero di linee predetto dell'immagine: 2\n"
          ]
        },
        {
          "data": {
            "image/png": "[encoded data removed]",
            "text/plain": [
              "<PIL.Image.Image image mode=RGB size=312x57 at 0x7F3EB13A4D50>"
            ]
          },
          "metadata": {
            "tags": []
          },
          "output_type": "display_data"
        },
        {
          "name": "stdout",
          "output_type": "stream",
          "text": [
            "legend_dataset/Annotated_images/02962-10.1.1.412.3848-Figure-2.png\n",
            "numero di linee attuale: 2\n",
            "risultato originale predetto: 1.999874\n",
            "numero di linee predetto dell'immagine: 2\n"
          ]
        },
        {
          "data": {
            "image/png": "[encoded data removed]",
            "text/plain": [
              "<PIL.Image.Image image mode=RGB size=180x59 at 0x7F3F60610150>"
            ]
          },
          "metadata": {
            "tags": []
          },
          "output_type": "display_data"
        },
        {
          "name": "stdout",
          "output_type": "stream",
          "text": [
            "legend_dataset/Annotated_images/03073-10.1.1.157.5707-Figure-1.png\n",
            "numero di linee attuale: 2\n",
            "risultato originale predetto: 1.999874\n",
            "numero di linee predetto dell'immagine: 2\n"
          ]
        },
        {
          "data": {
            "image/png": "[encoded data removed]",
            "text/plain": [
              "<PIL.Image.Image image mode=RGB size=282x76 at 0x7F3EB39CFB10>"
            ]
          },
          "metadata": {
            "tags": []
          },
          "output_type": "display_data"
        },
        {
          "name": "stdout",
          "output_type": "stream",
          "text": [
            "legend_dataset/Annotated_images/00881-10.1.1.228.2503-Figure-4.png\n",
            "numero di linee attuale: 4\n",
            "risultato originale predetto: 3.6264138\n",
            "numero di linee predetto dell'immagine: 4\n"
          ]
        },
        {
          "data": {
            "image/png": "[encoded data removed]",
            "text/plain": [
              "<PIL.Image.Image image mode=RGB size=328x72 at 0x7F3F600F5790>"
            ]
          },
          "metadata": {
            "tags": []
          },
          "output_type": "display_data"
        },
        {
          "name": "stdout",
          "output_type": "stream",
          "text": [
            "legend_dataset/Annotated_images/01544-10.1.1.170.923-Figure-4.png\n",
            "numero di linee attuale: 2\n",
            "risultato originale predetto: 1.999874\n",
            "numero di linee predetto dell'immagine: 2\n"
          ]
        },
        {
          "data": {
            "image/png": "[encoded data removed]",
            "text/plain": [
              "<PIL.Image.Image image mode=RGB size=133x39 at 0x7F3EB39CFC90>"
            ]
          },
          "metadata": {
            "tags": []
          },
          "output_type": "display_data"
        },
        {
          "name": "stdout",
          "output_type": "stream",
          "text": [
            "legend_dataset/Annotated_images/02395-10.1.1.159.1507-Figure-2.png\n",
            "numero di linee attuale: 3\n",
            "risultato originale predetto: 2.8974502\n",
            "numero di linee predetto dell'immagine: 3\n"
          ]
        },
        {
          "data": {
            "image/png": "[encoded data removed]",
            "text/plain": [
              "<PIL.Image.Image image mode=RGB size=92x98 at 0x7F3FB1D217D0>"
            ]
          },
          "metadata": {
            "tags": []
          },
          "output_type": "display_data"
        },
        {
          "name": "stdout",
          "output_type": "stream",
          "text": [
            "legend_dataset/Annotated_images/01900-10.1.1.331.4770-Figure-7.png\n",
            "numero di linee attuale: 3\n",
            "risultato originale predetto: 2.9476817\n",
            "numero di linee predetto dell'immagine: 3\n"
          ]
        },
        {
          "data": {
            "image/png": "[encoded data removed]",
            "text/plain": [
              "<PIL.Image.Image image mode=RGB size=165x59 at 0x7F3F600EFB50>"
            ]
          },
          "metadata": {
            "tags": []
          },
          "output_type": "display_data"
        },
        {
          "name": "stdout",
          "output_type": "stream",
          "text": [
            "legend_dataset/Annotated_images/03322-10.1.1.402.8944-Figure-4.png\n",
            "numero di linee attuale: 3\n",
            "risultato originale predetto: 2.918752\n",
            "numero di linee predetto dell'immagine: 3\n"
          ]
        },
        {
          "data": {
            "image/png": "[encoded data removed]",
            "text/plain": [
              "<PIL.Image.Image image mode=RGB size=120x85 at 0x7F3EB4C3F1D0>"
            ]
          },
          "metadata": {
            "tags": []
          },
          "output_type": "display_data"
        },
        {
          "name": "stdout",
          "output_type": "stream",
          "text": [
            "legend_dataset/Annotated_images/00202-10.1.1.353.8127-Figure-4.png\n",
            "numero di linee attuale: 4\n",
            "risultato originale predetto: 4.1823597\n",
            "numero di linee predetto dell'immagine: 4\n"
          ]
        },
        {
          "data": {
            "image/png": "[encoded data removed]",
            "text/plain": [
              "<PIL.Image.Image image mode=RGB size=61x51 at 0x7F3EB126CDD0>"
            ]
          },
          "metadata": {
            "tags": []
          },
          "output_type": "display_data"
        },
        {
          "name": "stdout",
          "output_type": "stream",
          "text": [
            "legend_dataset/Annotated_images/01854-10.1.1.112.4085-Figure-4.png\n",
            "numero di linee attuale: 2\n",
            "risultato originale predetto: 1.999874\n",
            "numero di linee predetto dell'immagine: 2\n"
          ]
        },
        {
          "data": {
            "image/png": "[encoded data removed]",
            "text/plain": [
              "<PIL.Image.Image image mode=RGB size=267x77 at 0x7F3EB1589510>"
            ]
          },
          "metadata": {
            "tags": []
          },
          "output_type": "display_data"
        },
        {
          "name": "stdout",
          "output_type": "stream",
          "text": [
            "legend_dataset/Annotated_images/02062-10.1.1.153.4833-Figure-7.png\n",
            "numero di linee attuale: 4\n",
            "risultato originale predetto: 4.3752413\n",
            "numero di linee predetto dell'immagine: 4\n"
          ]
        },
        {
          "data": {
            "image/png": "[encoded data removed]",
            "text/plain": [
              "<PIL.Image.Image image mode=RGB size=259x124 at 0x7F3EB1264AD0>"
            ]
          },
          "metadata": {
            "tags": []
          },
          "output_type": "display_data"
        },
        {
          "name": "stdout",
          "output_type": "stream",
          "text": [
            "legend_dataset/Annotated_images/02933-10.1.1.53.8203-Figure-5.png\n",
            "numero di linee attuale: 3\n",
            "risultato originale predetto: 3.3734584\n",
            "numero di linee predetto dell'immagine: 3\n"
          ]
        },
        {
          "data": {
            "image/png": "[encoded data removed]",
            "text/plain": [
              "<PIL.Image.Image image mode=RGB size=398x103 at 0x7F3EB4AE7E10>"
            ]
          },
          "metadata": {
            "tags": []
          },
          "output_type": "display_data"
        },
        {
          "name": "stdout",
          "output_type": "stream",
          "text": [
            "legend_dataset/Annotated_images/01695-10.1.1.5.2657-Figure-4.png\n",
            "numero di linee attuale: 2\n",
            "risultato originale predetto: 1.999874\n",
            "numero di linee predetto dell'immagine: 2\n"
          ]
        },
        {
          "data": {
            "image/png": "[encoded data removed]",
            "text/plain": [
              "<PIL.Image.Image image mode=RGB size=236x45 at 0x7F3EB4AE79D0>"
            ]
          },
          "metadata": {
            "tags": []
          },
          "output_type": "display_data"
        },
        {
          "name": "stdout",
          "output_type": "stream",
          "text": [
            "legend_dataset/Annotated_images/01195-10.1.1.161.1193-Figure-4.png\n",
            "numero di linee attuale: 4\n",
            "risultato originale predetto: 3.7674031\n",
            "numero di linee predetto dell'immagine: 4\n"
          ]
        },
        {
          "data": {
            "image/png": "[encoded data removed]",
            "text/plain": [
              "<PIL.Image.Image image mode=RGB size=212x83 at 0x7F3FB23C5810>"
            ]
          },
          "metadata": {
            "tags": []
          },
          "output_type": "display_data"
        },
        {
          "name": "stdout",
          "output_type": "stream",
          "text": [
            "legend_dataset/Annotated_images/03274-10.1.1.386.6705-Figure-2.png\n",
            "numero di linee attuale: 3\n",
            "risultato originale predetto: 2.8480747\n",
            "numero di linee predetto dell'immagine: 3\n"
          ]
        },
        {
          "data": {
            "image/png": "[encoded data removed]",
            "text/plain": [
              "<PIL.Image.Image image mode=RGB size=104x55 at 0x7F3F60111E90>"
            ]
          },
          "metadata": {
            "tags": []
          },
          "output_type": "display_data"
        },
        {
          "name": "stdout",
          "output_type": "stream",
          "text": [
            "legend_dataset/Annotated_images/01202-10.1.1.148.6144-Figure-4.png\n",
            "numero di linee attuale: 3\n",
            "risultato originale predetto: 2.923048\n",
            "numero di linee predetto dell'immagine: 3\n"
          ]
        },
        {
          "data": {
            "image/png": "[encoded data removed]",
            "text/plain": [
              "<PIL.Image.Image image mode=RGB size=102x78 at 0x7F3F60108550>"
            ]
          },
          "metadata": {
            "tags": []
          },
          "output_type": "display_data"
        },
        {
          "name": "stdout",
          "output_type": "stream",
          "text": [
            "legend_dataset/Annotated_images/01855-10.1.1.207.5424-Figure-3.png\n",
            "numero di linee attuale: 4\n",
            "risultato originale predetto: 3.6399605\n",
            "numero di linee predetto dell'immagine: 4\n"
          ]
        },
        {
          "data": {
            "image/png": "[encoded data removed]",
            "text/plain": [
              "<PIL.Image.Image image mode=RGB size=169x79 at 0x7F3EB11EAE90>"
            ]
          },
          "metadata": {
            "tags": []
          },
          "output_type": "display_data"
        },
        {
          "name": "stdout",
          "output_type": "stream",
          "text": [
            "legend_dataset/Annotated_images/01317-10.1.1.419.361-Figure-5.png\n",
            "numero di linee attuale: 2\n",
            "risultato originale predetto: 1.999874\n",
            "numero di linee predetto dell'immagine: 2\n"
          ]
        },
        {
          "data": {
            "image/png": "[encoded data removed]",
            "text/plain": [
              "<PIL.Image.Image image mode=RGB size=119x42 at 0x7F3EB133D4D0>"
            ]
          },
          "metadata": {
            "tags": []
          },
          "output_type": "display_data"
        },
        {
          "name": "stdout",
          "output_type": "stream",
          "text": [
            "legend_dataset/Annotated_images/02042-10.1.1.149.6166-Figure-2.png\n",
            "numero di linee attuale: 6\n",
            "risultato originale predetto: 5.2612042\n",
            "numero di linee predetto dell'immagine: 5\n"
          ]
        },
        {
          "data": {
            "image/png": "[encoded data removed]",
            "text/plain": [
              "<PIL.Image.Image image mode=RGB size=130x162 at 0x7F3EB13BEE50>"
            ]
          },
          "metadata": {
            "tags": []
          },
          "output_type": "display_data"
        },
        {
          "name": "stdout",
          "output_type": "stream",
          "text": [
            "legend_dataset/Annotated_images/02718-10.1.1.308.1929-Figure-7.png\n",
            "numero di linee attuale: 5\n",
            "risultato originale predetto: 5.0804424\n",
            "numero di linee predetto dell'immagine: 5\n"
          ]
        },
        {
          "data": {
            "image/png": "[encoded data removed]",
            "text/plain": [
              "<PIL.Image.Image image mode=RGB size=155x125 at 0x7F3EB158DC10>"
            ]
          },
          "metadata": {
            "tags": []
          },
          "output_type": "display_data"
        },
        {
          "name": "stdout",
          "output_type": "stream",
          "text": [
            "legend_dataset/Annotated_images/02243-10.1.1.138.5468-Figure-6.png\n",
            "numero di linee attuale: 4\n",
            "risultato originale predetto: 4.489953\n",
            "numero di linee predetto dell'immagine: 4\n"
          ]
        },
        {
          "data": {
            "image/png": "[encoded data removed]",
            "text/plain": [
              "<PIL.Image.Image image mode=RGB size=234x166 at 0x7F3EB387C850>"
            ]
          },
          "metadata": {
            "tags": []
          },
          "output_type": "display_data"
        },
        {
          "name": "stdout",
          "output_type": "stream",
          "text": [
            "legend_dataset/Annotated_images/00919-10.1.1.136.6850-Figure-2.png\n",
            "numero di linee attuale: 4\n",
            "risultato originale predetto: 1.9373972\n",
            "numero di linee predetto dell'immagine: 2\n"
          ]
        },
        {
          "data": {
            "image/png": "[encoded data removed]",
            "text/plain": [
              "<PIL.Image.Image image mode=RGB size=304x53 at 0x7F3EB101EBD0>"
            ]
          },
          "metadata": {
            "tags": []
          },
          "output_type": "display_data"
        },
        {
          "name": "stdout",
          "output_type": "stream",
          "text": [
            "legend_dataset/Annotated_images/00980-10.1.1.43.7008-Figure-14.png\n",
            "numero di linee attuale: 4\n",
            "risultato originale predetto: 3.8224368\n",
            "numero di linee predetto dell'immagine: 4\n"
          ]
        },
        {
          "data": {
            "image/png": "[encoded data removed]",
            "text/plain": [
              "<PIL.Image.Image image mode=RGB size=127x102 at 0x7F3EB11EA890>"
            ]
          },
          "metadata": {
            "tags": []
          },
          "output_type": "display_data"
        },
        {
          "name": "stdout",
          "output_type": "stream",
          "text": [
            "legend_dataset/Annotated_images/02698-10.1.1.154.5788-Figure-4.png\n",
            "numero di linee attuale: 2\n",
            "risultato originale predetto: 2.169847\n",
            "numero di linee predetto dell'immagine: 2\n"
          ]
        },
        {
          "data": {
            "image/png": "[encoded data removed]",
            "text/plain": [
              "<PIL.Image.Image image mode=RGB size=144x61 at 0x7F3F600F5A10>"
            ]
          },
          "metadata": {
            "tags": []
          },
          "output_type": "display_data"
        },
        {
          "name": "stdout",
          "output_type": "stream",
          "text": [
            "legend_dataset/Annotated_images/01022-10.1.1.420.8551-Figure-2.png\n",
            "numero di linee attuale: 2\n",
            "risultato originale predetto: 1.999874\n",
            "numero di linee predetto dell'immagine: 2\n"
          ]
        },
        {
          "data": {
            "image/png": "[encoded data removed]",
            "text/plain": [
              "<PIL.Image.Image image mode=RGB size=281x66 at 0x7F3EB3897B10>"
            ]
          },
          "metadata": {
            "tags": []
          },
          "output_type": "display_data"
        },
        {
          "name": "stdout",
          "output_type": "stream",
          "text": [
            "legend_dataset/Annotated_images/01800-10.1.1.43.8138-Figure-8.png\n",
            "numero di linee attuale: 2\n",
            "risultato originale predetto: 1.999874\n",
            "numero di linee predetto dell'immagine: 2\n"
          ]
        },
        {
          "data": {
            "image/png": "[encoded data removed]",
            "text/plain": [
              "<PIL.Image.Image image mode=RGB size=230x37 at 0x7F3EB12647D0>"
            ]
          },
          "metadata": {
            "tags": []
          },
          "output_type": "display_data"
        },
        {
          "name": "stdout",
          "output_type": "stream",
          "text": [
            "legend_dataset/Annotated_images/00398-10.1.1.164.3678-Figure-11.png\n",
            "numero di linee attuale: 7\n",
            "risultato originale predetto: 8.044762\n",
            "numero di linee predetto dell'immagine: 8\n"
          ]
        },
        {
          "data": {
            "image/png": "[encoded data removed]",
            "text/plain": [
              "<PIL.Image.Image image mode=RGB size=85x89 at 0x7F3EB12B3B90>"
            ]
          },
          "metadata": {
            "tags": []
          },
          "output_type": "display_data"
        },
        {
          "name": "stdout",
          "output_type": "stream",
          "text": [
            "legend_dataset/Annotated_images/00397-10.1.1.165.7670-Figure-8.png\n",
            "numero di linee attuale: 5\n",
            "risultato originale predetto: 5.2689047\n",
            "numero di linee predetto dell'immagine: 5\n"
          ]
        },
        {
          "data": {
            "image/png": "[encoded data removed]",
            "text/plain": [
              "<PIL.Image.Image image mode=RGB size=54x85 at 0x7F3EB3897E50>"
            ]
          },
          "metadata": {
            "tags": []
          },
          "output_type": "display_data"
        },
        {
          "name": "stdout",
          "output_type": "stream",
          "text": [
            "legend_dataset/Annotated_images/01130-10.1.1.149.9543-Figure-6.png\n",
            "numero di linee attuale: 2\n",
            "risultato originale predetto: 1.999874\n",
            "numero di linee predetto dell'immagine: 2\n"
          ]
        },
        {
          "data": {
            "image/png": "[encoded data removed]",
            "text/plain": [
              "<PIL.Image.Image image mode=RGB size=68x37 at 0x7F3EB386BE90>"
            ]
          },
          "metadata": {
            "tags": []
          },
          "output_type": "display_data"
        },
        {
          "name": "stdout",
          "output_type": "stream",
          "text": [
            "legend_dataset/Annotated_images/02378-10.1.1.294.5591-Figure-2.png\n",
            "numero di linee attuale: 4\n",
            "risultato originale predetto: 4.044428\n",
            "numero di linee predetto dell'immagine: 4\n"
          ]
        },
        {
          "data": {
            "image/png": "[encoded data removed]",
            "text/plain": [
              "<PIL.Image.Image image mode=RGB size=130x54 at 0x7F3EB39D6390>"
            ]
          },
          "metadata": {
            "tags": []
          },
          "output_type": "display_data"
        },
        {
          "name": "stdout",
          "output_type": "stream",
          "text": [
            "legend_dataset/Annotated_images/00211-10.1.1.165.9484-Figure-1.png\n",
            "numero di linee attuale: 3\n",
            "risultato originale predetto: 2.7975304\n",
            "numero di linee predetto dell'immagine: 3\n"
          ]
        },
        {
          "data": {
            "image/png": "[encoded data removed]",
            "text/plain": [
              "<PIL.Image.Image image mode=RGB size=135x76 at 0x7F3EB11EA950>"
            ]
          },
          "metadata": {
            "tags": []
          },
          "output_type": "display_data"
        },
        {
          "name": "stdout",
          "output_type": "stream",
          "text": [
            "legend_dataset/Annotated_images/01132-10.1.1.408.1792-Figure-10.png\n",
            "numero di linee attuale: 4\n",
            "risultato originale predetto: 3.5677516\n",
            "numero di linee predetto dell'immagine: 4\n"
          ]
        },
        {
          "data": {
            "image/png": "[encoded data removed]",
            "text/plain": [
              "<PIL.Image.Image image mode=RGB size=182x91 at 0x7F3F600D7610>"
            ]
          },
          "metadata": {
            "tags": []
          },
          "output_type": "display_data"
        },
        {
          "name": "stdout",
          "output_type": "stream",
          "text": [
            "legend_dataset/Annotated_images/00659-10.1.1.218.7782-Figure-1.png\n",
            "numero di linee attuale: 6\n",
            "risultato originale predetto: 6.6760616\n",
            "numero di linee predetto dell'immagine: 7\n"
          ]
        },
        {
          "data": {
            "image/png": "[encoded data removed]",
            "text/plain": [
              "<PIL.Image.Image image mode=RGB size=122x106 at 0x7F3EB1295E50>"
            ]
          },
          "metadata": {
            "tags": []
          },
          "output_type": "display_data"
        },
        {
          "name": "stdout",
          "output_type": "stream",
          "text": [
            "legend_dataset/Annotated_images/03160-10.1.1.160.5630-Figure-5.png\n",
            "numero di linee attuale: 4\n",
            "risultato originale predetto: 3.8550596\n",
            "numero di linee predetto dell'immagine: 4\n"
          ]
        },
        {
          "data": {
            "image/png": "[encoded data removed]",
            "text/plain": [
              "<PIL.Image.Image image mode=RGB size=338x76 at 0x7F3EB4B0B650>"
            ]
          },
          "metadata": {
            "tags": []
          },
          "output_type": "display_data"
        },
        {
          "name": "stdout",
          "output_type": "stream",
          "text": [
            "legend_dataset/Annotated_images/02080-10.1.1.160.3397-Figure-2.png\n",
            "numero di linee attuale: 2\n",
            "risultato originale predetto: 1.999874\n",
            "numero di linee predetto dell'immagine: 2\n"
          ]
        },
        {
          "data": {
            "image/png": "[encoded data removed]",
            "text/plain": [
              "<PIL.Image.Image image mode=RGB size=308x62 at 0x7F3EB122C0D0>"
            ]
          },
          "metadata": {
            "tags": []
          },
          "output_type": "display_data"
        },
        {
          "name": "stdout",
          "output_type": "stream",
          "text": [
            "legend_dataset/Annotated_images/02114-10.1.1.192.9439-Figure-5.png\n",
            "numero di linee attuale: 2\n",
            "risultato originale predetto: 1.999874\n",
            "numero di linee predetto dell'immagine: 2\n"
          ]
        },
        {
          "data": {
            "image/png": "[encoded data removed]",
            "text/plain": [
              "<PIL.Image.Image image mode=RGB size=139x50 at 0x7F3EB4C700D0>"
            ]
          },
          "metadata": {
            "tags": []
          },
          "output_type": "display_data"
        },
        {
          "name": "stdout",
          "output_type": "stream",
          "text": [
            "legend_dataset/Annotated_images/01827-10.1.1.380.3640-Figure-2.png\n",
            "numero di linee attuale: 4\n",
            "risultato originale predetto: 3.5809593\n",
            "numero di linee predetto dell'immagine: 4\n"
          ]
        },
        {
          "data": {
            "image/png": "[encoded data removed]",
            "text/plain": [
              "<PIL.Image.Image image mode=RGB size=224x84 at 0x7F3EB12A0A50>"
            ]
          },
          "metadata": {
            "tags": []
          },
          "output_type": "display_data"
        },
        {
          "name": "stdout",
          "output_type": "stream",
          "text": [
            "legend_dataset/Annotated_images/02156-10.1.1.225.6901-Figure-5.png\n",
            "numero di linee attuale: 2\n",
            "risultato originale predetto: 1.999874\n",
            "numero di linee predetto dell'immagine: 2\n"
          ]
        },
        {
          "data": {
            "image/png": "[encoded data removed]",
            "text/plain": [
              "<PIL.Image.Image image mode=RGB size=215x42 at 0x7F3F605548D0>"
            ]
          },
          "metadata": {
            "tags": []
          },
          "output_type": "display_data"
        },
        {
          "name": "stdout",
          "output_type": "stream",
          "text": [
            "legend_dataset/Annotated_images/00172-10.1.1.331.5335-Figure-6.png\n",
            "numero di linee attuale: 3\n",
            "risultato originale predetto: 2.8060544\n",
            "numero di linee predetto dell'immagine: 3\n"
          ]
        },
        {
          "data": {
            "image/png": "[encoded data removed]",
            "text/plain": [
              "<PIL.Image.Image image mode=RGB size=287x92 at 0x7F3EB12A0490>"
            ]
          },
          "metadata": {
            "tags": []
          },
          "output_type": "display_data"
        },
        {
          "name": "stdout",
          "output_type": "stream",
          "text": [
            "legend_dataset/Annotated_images/00408-10.1.1.143.6345-Figure-8.png\n",
            "numero di linee attuale: 5\n",
            "risultato originale predetto: 5.9152937\n",
            "numero di linee predetto dell'immagine: 6\n"
          ]
        },
        {
          "data": {
            "image/png": "[encoded data removed]",
            "text/plain": [
              "<PIL.Image.Image image mode=RGB size=152x113 at 0x7F3F6512CE10>"
            ]
          },
          "metadata": {
            "tags": []
          },
          "output_type": "display_data"
        },
        {
          "name": "stdout",
          "output_type": "stream",
          "text": [
            "legend_dataset/Annotated_images/02619-10.1.1.30.269-Figure-9.png\n",
            "numero di linee attuale: 3\n",
            "risultato originale predetto: 2.9118237\n",
            "numero di linee predetto dell'immagine: 3\n"
          ]
        },
        {
          "data": {
            "image/png": "[encoded data removed]",
            "text/plain": [
              "<PIL.Image.Image image mode=RGB size=271x73 at 0x7F3EB15DBC50>"
            ]
          },
          "metadata": {
            "tags": []
          },
          "output_type": "display_data"
        },
        {
          "name": "stdout",
          "output_type": "stream",
          "text": [
            "legend_dataset/Annotated_images/00652-10.1.1.164.1174-Figure-5.png\n",
            "numero di linee attuale: 2\n",
            "risultato originale predetto: 1.999874\n",
            "numero di linee predetto dell'immagine: 2\n"
          ]
        },
        {
          "data": {
            "image/png": "[encoded data removed]",
            "text/plain": [
              "<PIL.Image.Image image mode=RGB size=302x82 at 0x7F3EB3887AD0>"
            ]
          },
          "metadata": {
            "tags": []
          },
          "output_type": "display_data"
        },
        {
          "name": "stdout",
          "output_type": "stream",
          "text": [
            "legend_dataset/Annotated_images/02212-10.1.1.408.715-Figure-3.png\n",
            "numero di linee attuale: 3\n",
            "risultato originale predetto: 2.9931164\n",
            "numero di linee predetto dell'immagine: 3\n"
          ]
        },
        {
          "data": {
            "image/png": "[encoded data removed]",
            "text/plain": [
              "<PIL.Image.Image image mode=RGB size=209x55 at 0x7F3EB3876DD0>"
            ]
          },
          "metadata": {
            "tags": []
          },
          "output_type": "display_data"
        },
        {
          "name": "stdout",
          "output_type": "stream",
          "text": [
            "legend_dataset/Annotated_images/01206-10.1.1.170.1063-Figure-5.png\n",
            "numero di linee attuale: 3\n",
            "risultato originale predetto: 3.0765648\n",
            "numero di linee predetto dell'immagine: 3\n"
          ]
        },
        {
          "data": {
            "image/png": "[encoded data removed]",
            "text/plain": [
              "<PIL.Image.Image image mode=RGB size=183x73 at 0x7F3EB11D5210>"
            ]
          },
          "metadata": {
            "tags": []
          },
          "output_type": "display_data"
        },
        {
          "name": "stdout",
          "output_type": "stream",
          "text": [
            "legend_dataset/Annotated_images/01471-10.1.1.331.282-Figure-7.png\n",
            "numero di linee attuale: 2\n",
            "risultato originale predetto: 1.999874\n",
            "numero di linee predetto dell'immagine: 2\n"
          ]
        },
        {
          "data": {
            "image/png": "[encoded data removed]",
            "text/plain": [
              "<PIL.Image.Image image mode=RGB size=226x66 at 0x7F3EB1183790>"
            ]
          },
          "metadata": {
            "tags": []
          },
          "output_type": "display_data"
        },
        {
          "name": "stdout",
          "output_type": "stream",
          "text": [
            "legend_dataset/Annotated_images/02086-10.1.1.386.6332-Figure-6.png\n",
            "numero di linee attuale: 2\n",
            "risultato originale predetto: 2.5144854\n",
            "numero di linee predetto dell'immagine: 3\n"
          ]
        },
        {
          "data": {
            "image/png": "[encoded data removed]",
            "text/plain": [
              "<PIL.Image.Image image mode=RGB size=203x21 at 0x7F3EB122C690>"
            ]
          },
          "metadata": {
            "tags": []
          },
          "output_type": "display_data"
        },
        {
          "name": "stdout",
          "output_type": "stream",
          "text": [
            "legend_dataset/Annotated_images/01580-10.1.1.206.5167-Figure-4.png\n",
            "numero di linee attuale: 2\n",
            "risultato originale predetto: 1.999874\n",
            "numero di linee predetto dell'immagine: 2\n"
          ]
        },
        {
          "data": {
            "image/png": "[encoded data removed]",
            "text/plain": [
              "<PIL.Image.Image image mode=RGB size=213x45 at 0x7F3F64FE1090>"
            ]
          },
          "metadata": {
            "tags": []
          },
          "output_type": "display_data"
        },
        {
          "name": "stdout",
          "output_type": "stream",
          "text": [
            "legend_dataset/Annotated_images/01636-10.1.1.186.3498-Figure-13.png\n",
            "numero di linee attuale: 5\n",
            "risultato originale predetto: 5.313769\n",
            "numero di linee predetto dell'immagine: 5\n"
          ]
        },
        {
          "data": {
            "image/png": "[encoded data removed]",
            "text/plain": [
              "<PIL.Image.Image image mode=RGB size=79x112 at 0x7F3EB15899D0>"
            ]
          },
          "metadata": {
            "tags": []
          },
          "output_type": "display_data"
        },
        {
          "name": "stdout",
          "output_type": "stream",
          "text": [
            "legend_dataset/Annotated_images/00128-10.1.1.278.7060-Figure-5.png\n",
            "numero di linee attuale: 2\n",
            "risultato originale predetto: 1.999874\n",
            "numero di linee predetto dell'immagine: 2\n"
          ]
        },
        {
          "data": {
            "image/png": "[encoded data removed]",
            "text/plain": [
              "<PIL.Image.Image image mode=RGB size=137x49 at 0x7F3F600F3710>"
            ]
          },
          "metadata": {
            "tags": []
          },
          "output_type": "display_data"
        },
        {
          "name": "stdout",
          "output_type": "stream",
          "text": [
            "legend_dataset/Annotated_images/02391-10.1.1.192.2616-Figure-2.png\n",
            "numero di linee attuale: 5\n",
            "risultato originale predetto: 3.8989692\n",
            "numero di linee predetto dell'immagine: 4\n"
          ]
        },
        {
          "data": {
            "image/png": "[encoded data removed]",
            "text/plain": [
              "<PIL.Image.Image image mode=RGB size=104x90 at 0x7F3F6009AB10>"
            ]
          },
          "metadata": {
            "tags": []
          },
          "output_type": "display_data"
        },
        {
          "name": "stdout",
          "output_type": "stream",
          "text": [
            "legend_dataset/Annotated_images/00734-10.1.1.34.1849-Figure-2.png\n",
            "numero di linee attuale: 4\n",
            "risultato originale predetto: 2.9922228\n",
            "numero di linee predetto dell'immagine: 3\n"
          ]
        },
        {
          "data": {
            "image/png": "[encoded data removed]",
            "text/plain": [
              "<PIL.Image.Image image mode=RGB size=436x147 at 0x7F3F600DDC50>"
            ]
          },
          "metadata": {
            "tags": []
          },
          "output_type": "display_data"
        },
        {
          "name": "stdout",
          "output_type": "stream",
          "text": [
            "legend_dataset/Annotated_images/01416-10.1.1.2.92-Figure-3.png\n",
            "numero di linee attuale: 2\n",
            "risultato originale predetto: 1.999874\n",
            "numero di linee predetto dell'immagine: 2\n"
          ]
        },
        {
          "data": {
            "image/png": "[encoded data removed]",
            "text/plain": [
              "<PIL.Image.Image image mode=RGB size=115x35 at 0x7F3F60111250>"
            ]
          },
          "metadata": {
            "tags": []
          },
          "output_type": "display_data"
        },
        {
          "name": "stdout",
          "output_type": "stream",
          "text": [
            "legend_dataset/Annotated_images/02125-10.1.1.174.8234-Figure-6.png\n",
            "numero di linee attuale: 3\n",
            "risultato originale predetto: 2.811924\n",
            "numero di linee predetto dell'immagine: 3\n"
          ]
        },
        {
          "data": {
            "image/png": "[encoded data removed]",
            "text/plain": [
              "<PIL.Image.Image image mode=RGB size=216x84 at 0x7F3F600F3E50>"
            ]
          },
          "metadata": {
            "tags": []
          },
          "output_type": "display_data"
        },
        {
          "name": "stdout",
          "output_type": "stream",
          "text": [
            "legend_dataset/Annotated_images/00912-10.1.1.208.2318-Figure-3.png\n",
            "numero di linee attuale: 4\n",
            "risultato originale predetto: 4.1466475\n",
            "numero di linee predetto dell'immagine: 4\n"
          ]
        },
        {
          "data": {
            "image/png": "[encoded data removed]",
            "text/plain": [
              "<PIL.Image.Image image mode=RGB size=150x72 at 0x7F3EB4CB8AD0>"
            ]
          },
          "metadata": {
            "tags": []
          },
          "output_type": "display_data"
        },
        {
          "name": "stdout",
          "output_type": "stream",
          "text": [
            "legend_dataset/Annotated_images/03320-10.1.1.164.2102-Figure-3.png\n",
            "numero di linee attuale: 4\n",
            "risultato originale predetto: 1.9725057\n",
            "numero di linee predetto dell'immagine: 2\n"
          ]
        },
        {
          "data": {
            "image/png": "[encoded data removed]",
            "text/plain": [
              "<PIL.Image.Image image mode=RGB size=896x55 at 0x7F3EB4CF00D0>"
            ]
          },
          "metadata": {
            "tags": []
          },
          "output_type": "display_data"
        },
        {
          "name": "stdout",
          "output_type": "stream",
          "text": [
            "legend_dataset/Annotated_images/01087-10.1.1.143.4579-Figure-9.png\n",
            "numero di linee attuale: 2\n",
            "risultato originale predetto: 1.999874\n",
            "numero di linee predetto dell'immagine: 2\n"
          ]
        },
        {
          "data": {
            "image/png": "[encoded data removed]",
            "text/plain": [
              "<PIL.Image.Image image mode=RGB size=94x40 at 0x7F3EB1266890>"
            ]
          },
          "metadata": {
            "tags": []
          },
          "output_type": "display_data"
        },
        {
          "name": "stdout",
          "output_type": "stream",
          "text": [
            "legend_dataset/Annotated_images/03288-10.1.1.419.1033-Figure-5.png\n",
            "numero di linee attuale: 3\n",
            "risultato originale predetto: 2.9694734\n",
            "numero di linee predetto dell'immagine: 3\n"
          ]
        },
        {
          "data": {
            "image/png": "[encoded data removed]",
            "text/plain": [
              "<PIL.Image.Image image mode=RGB size=219x82 at 0x7F3F6047B710>"
            ]
          },
          "metadata": {
            "tags": []
          },
          "output_type": "display_data"
        },
        {
          "name": "stdout",
          "output_type": "stream",
          "text": [
            "legend_dataset/Annotated_images/00084-10.1.1.174.9242-Figure-3.png\n",
            "numero di linee attuale: 3\n",
            "risultato originale predetto: 3.2267144\n",
            "numero di linee predetto dell'immagine: 3\n"
          ]
        },
        {
          "data": {
            "image/png": "[encoded data removed]",
            "text/plain": [
              "<PIL.Image.Image image mode=RGB size=56x52 at 0x7F3F6500D490>"
            ]
          },
          "metadata": {
            "tags": []
          },
          "output_type": "display_data"
        },
        {
          "name": "stdout",
          "output_type": "stream",
          "text": [
            "legend_dataset/Annotated_images/00080-10.1.1.219.5171-Figure-6.png\n",
            "numero di linee attuale: 8\n",
            "risultato originale predetto: 7.707524\n",
            "numero di linee predetto dell'immagine: 8\n"
          ]
        },
        {
          "data": {
            "image/png": "[encoded data removed]",
            "text/plain": [
              "<PIL.Image.Image image mode=RGB size=252x184 at 0x7F3EB1578A10>"
            ]
          },
          "metadata": {
            "tags": []
          },
          "output_type": "display_data"
        },
        {
          "name": "stdout",
          "output_type": "stream",
          "text": [
            "legend_dataset/Annotated_images/02448-10.1.1.386.9989-Figure-8.png\n",
            "numero di linee attuale: 8\n",
            "risultato originale predetto: 5.9166985\n",
            "numero di linee predetto dell'immagine: 6\n"
          ]
        },
        {
          "data": {
            "image/png": "[encoded data removed]",
            "text/plain": [
              "<PIL.Image.Image image mode=RGB size=98x201 at 0x7F3EB1297D50>"
            ]
          },
          "metadata": {
            "tags": []
          },
          "output_type": "display_data"
        },
        {
          "name": "stdout",
          "output_type": "stream",
          "text": [
            "legend_dataset/Annotated_images/01491-10.1.1.42.6672-Figure-2.png\n",
            "numero di linee attuale: 3\n",
            "risultato originale predetto: 2.9013665\n",
            "numero di linee predetto dell'immagine: 3\n"
          ]
        },
        {
          "data": {
            "image/png": "[encoded data removed]",
            "text/plain": [
              "<PIL.Image.Image image mode=RGB size=132x58 at 0x7F3EB4CB8510>"
            ]
          },
          "metadata": {
            "tags": []
          },
          "output_type": "display_data"
        },
        {
          "name": "stdout",
          "output_type": "stream",
          "text": [
            "legend_dataset/Annotated_images/01861-10.1.1.219.5171-Figure-5.png\n",
            "numero di linee attuale: 9\n",
            "risultato originale predetto: 6.7274647\n",
            "numero di linee predetto dell'immagine: 7\n"
          ]
        },
        {
          "data": {
            "image/png": "[encoded data removed]",
            "text/plain": [
              "<PIL.Image.Image image mode=RGB size=155x209 at 0x7F3F60554A50>"
            ]
          },
          "metadata": {
            "tags": []
          },
          "output_type": "display_data"
        },
        {
          "name": "stdout",
          "output_type": "stream",
          "text": [
            "legend_dataset/Annotated_images/01463-10.1.1.16.4936-Figure-2.png\n",
            "numero di linee attuale: 3\n",
            "risultato originale predetto: 2.7401824\n",
            "numero di linee predetto dell'immagine: 3\n"
          ]
        },
        {
          "data": {
            "image/png": "[encoded data removed]",
            "text/plain": [
              "<PIL.Image.Image image mode=RGB size=121x65 at 0x7F3EB4B0B950>"
            ]
          },
          "metadata": {
            "tags": []
          },
          "output_type": "display_data"
        },
        {
          "name": "stdout",
          "output_type": "stream",
          "text": [
            "legend_dataset/Annotated_images/00293-10.1.1.323.9133-Figure-14.png\n",
            "numero di linee attuale: 2\n",
            "risultato originale predetto: 2.2799017\n",
            "numero di linee predetto dell'immagine: 2\n"
          ]
        },
        {
          "data": {
            "image/png": "[encoded data removed]",
            "text/plain": [
              "<PIL.Image.Image image mode=RGB size=276x22 at 0x7F3F60111F50>"
            ]
          },
          "metadata": {
            "tags": []
          },
          "output_type": "display_data"
        },
        {
          "name": "stdout",
          "output_type": "stream",
          "text": [
            "legend_dataset/Annotated_images/00203-10.1.1.18.7410-Figure-5.png\n",
            "numero di linee attuale: 4\n",
            "risultato originale predetto: 3.6216888\n",
            "numero di linee predetto dell'immagine: 4\n"
          ]
        },
        {
          "data": {
            "image/png": "[encoded data removed]",
            "text/plain": [
              "<PIL.Image.Image image mode=RGB size=295x99 at 0x7F3FB2398D10>"
            ]
          },
          "metadata": {
            "tags": []
          },
          "output_type": "display_data"
        },
        {
          "name": "stdout",
          "output_type": "stream",
          "text": [
            "legend_dataset/Annotated_images/01342-10.1.1.378.7544-Figure-4.png\n",
            "numero di linee attuale: 3\n",
            "risultato originale predetto: 3.0951214\n",
            "numero di linee predetto dell'immagine: 3\n"
          ]
        },
        {
          "data": {
            "image/png": "[encoded data removed]",
            "text/plain": [
              "<PIL.Image.Image image mode=RGB size=144x87 at 0x7F3F600FD690>"
            ]
          },
          "metadata": {
            "tags": []
          },
          "output_type": "display_data"
        },
        {
          "name": "stdout",
          "output_type": "stream",
          "text": [
            "legend_dataset/Annotated_images/00789-10.1.1.360.8064-Figure-4.png\n",
            "numero di linee attuale: 4\n",
            "risultato originale predetto: 4.6064897\n",
            "numero di linee predetto dell'immagine: 5\n"
          ]
        },
        {
          "data": {
            "image/png": "[encoded data removed]",
            "text/plain": [
              "<PIL.Image.Image image mode=RGB size=390x69 at 0x7F3EB1543BD0>"
            ]
          },
          "metadata": {
            "tags": []
          },
          "output_type": "display_data"
        },
        {
          "name": "stdout",
          "output_type": "stream",
          "text": [
            "legend_dataset/Annotated_images/00220-10.1.1.4.9606-Figure-7.png\n",
            "numero di linee attuale: 3\n",
            "risultato originale predetto: 2.6394548\n",
            "numero di linee predetto dell'immagine: 3\n"
          ]
        },
        {
          "data": {
            "image/png": "[encoded data removed]",
            "text/plain": [
              "<PIL.Image.Image image mode=RGB size=549x30 at 0x7F3F60409050>"
            ]
          },
          "metadata": {
            "tags": []
          },
          "output_type": "display_data"
        },
        {
          "name": "stdout",
          "output_type": "stream",
          "text": [
            "legend_dataset/Annotated_images/00979-10.1.1.169.3772-Figure-4.png\n",
            "numero di linee attuale: 4\n",
            "risultato originale predetto: 4.421925\n",
            "numero di linee predetto dell'immagine: 4\n"
          ]
        },
        {
          "data": {
            "image/png": "[encoded data removed]",
            "text/plain": [
              "<PIL.Image.Image image mode=RGB size=216x98 at 0x7F3EB1289B10>"
            ]
          },
          "metadata": {
            "tags": []
          },
          "output_type": "display_data"
        },
        {
          "name": "stdout",
          "output_type": "stream",
          "text": [
            "legend_dataset/Annotated_images/02868-10.1.1.128.648-Figure-1.png\n",
            "numero di linee attuale: 3\n",
            "risultato originale predetto: 2.8423235\n",
            "numero di linee predetto dell'immagine: 3\n"
          ]
        },
        {
          "data": {
            "image/png": "[encoded data removed]",
            "text/plain": [
              "<PIL.Image.Image image mode=RGB size=201x130 at 0x7F3F6026FD10>"
            ]
          },
          "metadata": {
            "tags": []
          },
          "output_type": "display_data"
        },
        {
          "name": "stdout",
          "output_type": "stream",
          "text": [
            "legend_dataset/Annotated_images/01540-10.1.1.368.1401-Figure-4.png\n",
            "numero di linee attuale: 3\n",
            "risultato originale predetto: 2.9576397\n",
            "numero di linee predetto dell'immagine: 3\n"
          ]
        },
        {
          "data": {
            "image/png": "[encoded data removed]",
            "text/plain": [
              "<PIL.Image.Image image mode=RGB size=189x61 at 0x7F3EB1543BD0>"
            ]
          },
          "metadata": {
            "tags": []
          },
          "output_type": "display_data"
        },
        {
          "name": "stdout",
          "output_type": "stream",
          "text": [
            "legend_dataset/Annotated_images/00804-10.1.1.157.559-Figure-4.png\n",
            "numero di linee attuale: 6\n",
            "risultato originale predetto: 6.3689275\n",
            "numero di linee predetto dell'immagine: 6\n"
          ]
        },
        {
          "data": {
            "image/png": "[encoded data removed]",
            "text/plain": [
              "<PIL.Image.Image image mode=RGB size=98x98 at 0x7F3F6057E990>"
            ]
          },
          "metadata": {
            "tags": []
          },
          "output_type": "display_data"
        },
        {
          "name": "stdout",
          "output_type": "stream",
          "text": [
            "legend_dataset/Annotated_images/00780-10.1.1.124.5204-Figure-5.png\n",
            "numero di linee attuale: 3\n",
            "risultato originale predetto: 2.9995866\n",
            "numero di linee predetto dell'immagine: 3\n"
          ]
        },
        {
          "data": {
            "image/png": "[encoded data removed]",
            "text/plain": [
              "<PIL.Image.Image image mode=RGB size=190x40 at 0x7F3EB1295210>"
            ]
          },
          "metadata": {
            "tags": []
          },
          "output_type": "display_data"
        },
        {
          "name": "stdout",
          "output_type": "stream",
          "text": [
            "legend_dataset/Annotated_images/01073-10.1.1.163.1109-Figure-7.png\n",
            "numero di linee attuale: 2\n",
            "risultato originale predetto: 1.999874\n",
            "numero di linee predetto dell'immagine: 2\n"
          ]
        },
        {
          "data": {
            "image/png": "[encoded data removed]",
            "text/plain": [
              "<PIL.Image.Image image mode=RGB size=226x66 at 0x7F3EB1295710>"
            ]
          },
          "metadata": {
            "tags": []
          },
          "output_type": "display_data"
        },
        {
          "name": "stdout",
          "output_type": "stream",
          "text": [
            "legend_dataset/Annotated_images/02338-10.1.1.17.7460-Figure-3.png\n",
            "numero di linee attuale: 7\n",
            "risultato originale predetto: 3.8246913\n",
            "numero di linee predetto dell'immagine: 4\n"
          ]
        },
        {
          "data": {
            "image/png": "[encoded data removed]",
            "text/plain": [
              "<PIL.Image.Image image mode=RGB size=217x156 at 0x7F3EB39D6D10>"
            ]
          },
          "metadata": {
            "tags": []
          },
          "output_type": "display_data"
        },
        {
          "name": "stdout",
          "output_type": "stream",
          "text": [
            "legend_dataset/Annotated_images/00020-10.1.1.2.2236-Figure-3.png\n",
            "numero di linee attuale: 4\n",
            "risultato originale predetto: 3.8415008\n",
            "numero di linee predetto dell'immagine: 4\n"
          ]
        },
        {
          "data": {
            "image/png": "[encoded data removed]",
            "text/plain": [
              "<PIL.Image.Image image mode=RGB size=116x49 at 0x7F3F6062ABD0>"
            ]
          },
          "metadata": {
            "tags": []
          },
          "output_type": "display_data"
        },
        {
          "name": "stdout",
          "output_type": "stream",
          "text": [
            "legend_dataset/Annotated_images/00138-10.1.1.374.4400-Figure-3.png\n",
            "numero di linee attuale: 2\n",
            "risultato originale predetto: 1.999874\n",
            "numero di linee predetto dell'immagine: 2\n"
          ]
        },
        {
          "data": {
            "image/png": "[encoded data removed]",
            "text/plain": [
              "<PIL.Image.Image image mode=RGB size=120x34 at 0x7F3EB15A3B90>"
            ]
          },
          "metadata": {
            "tags": []
          },
          "output_type": "display_data"
        },
        {
          "name": "stdout",
          "output_type": "stream",
          "text": [
            "legend_dataset/Annotated_images/01683-10.1.1.128.9917-Figure-3.png\n",
            "numero di linee attuale: 2\n",
            "risultato originale predetto: 1.8759207\n",
            "numero di linee predetto dell'immagine: 2\n"
          ]
        },
        {
          "data": {
            "image/png": "[encoded data removed]",
            "text/plain": [
              "<PIL.Image.Image image mode=RGB size=160x39 at 0x7F3EB1595C10>"
            ]
          },
          "metadata": {
            "tags": []
          },
          "output_type": "display_data"
        },
        {
          "name": "stdout",
          "output_type": "stream",
          "text": [
            "legend_dataset/Annotated_images/01735-10.1.1.164.5853-Figure-2.png\n",
            "numero di linee attuale: 3\n",
            "risultato originale predetto: 3.035612\n",
            "numero di linee predetto dell'immagine: 3\n"
          ]
        },
        {
          "data": {
            "image/png": "[encoded data removed]",
            "text/plain": [
              "<PIL.Image.Image image mode=RGB size=93x71 at 0x7F3EB4C26090>"
            ]
          },
          "metadata": {
            "tags": []
          },
          "output_type": "display_data"
        },
        {
          "name": "stdout",
          "output_type": "stream",
          "text": [
            "legend_dataset/Annotated_images/01554-10.1.1.298.8002-Figure-2.png\n",
            "numero di linee attuale: 2\n",
            "risultato originale predetto: 1.999874\n",
            "numero di linee predetto dell'immagine: 2\n"
          ]
        },
        {
          "data": {
            "image/png": "[encoded data removed]",
            "text/plain": [
              "<PIL.Image.Image image mode=RGB size=157x56 at 0x7F3EB15786D0>"
            ]
          },
          "metadata": {
            "tags": []
          },
          "output_type": "display_data"
        }
      ],
      "source": [
        "# import the necessary packages\n",
        "# import config\n",
        "from tensorflow.keras.preprocessing.image import img_to_array\n",
        "from tensorflow.keras.preprocessing.image import load_img\n",
        "from tensorflow.keras.models import load_model\n",
        "# import tensorflow_addons as tfa\n",
        "import numpy as np\n",
        "import mimetypes\n",
        "import argparse\n",
        "import imutils\n",
        "import cv2\n",
        "import os\n",
        "from google.colab.patches import cv2_imshow\n",
        "\n",
        "# # construct the argument parser and parse the arguments\n",
        "# ap = argparse.ArgumentParser()\n",
        "# ap.add_argument(\"-i\", \"--input\", required=True,\n",
        "#                 help=\"path to input image/text file of image filenames\")\n",
        "# args = vars(ap.parse_args())\n",
        "\n",
        "# # determine the input file type, but assume that we're working with\n",
        "# # single input image\n",
        "# filetype = mimetypes.guess_type(args[\"input\"])[0]\n",
        "# imagePaths = [args[\"input\"]]\n",
        "# if the file type is a text file, then we need to process *multiple*\n",
        "# images\n",
        "\n",
        "switch = input(\"predire su training (1) o su validation (2)?: \")\n",
        "if switch == str(1):\n",
        "    args = 'output/train_images.txt'\n",
        "else:\n",
        "    args = 'output/test_images.txt'\n",
        "\n",
        "filetype = 'text/plain'\n",
        "imagePaths = [args]\n",
        "annotsPaths = []\n",
        "\n",
        "if \"text/plain\" == filetype:\n",
        "    # load the filenames in our testing file and initialize our list\n",
        "    # of image paths\n",
        "    filenames = open(args).read().strip().split(\"\\n\")\n",
        "    imagePaths = []\n",
        "    # loop over the filenames\n",
        "    for f in filenames:\n",
        "        for row in rows:\n",
        "            row = row.split(\",\")\n",
        "            if f == row[0]:\n",
        "                annotsPaths.append(row[1:])\n",
        "        # construct the full path to the image filename and then\n",
        "        # update our image paths list\n",
        "        p = os.path.sep.join([IMAGES_PATH, f])\n",
        "        imagePaths.append(p)\n",
        "\n",
        "# load our trained bounding box regressor from disk\n",
        "print(\"[INFO] loading object detector...\")\n",
        "model = load_model(MODEL_PATH, compile=False)\n",
        "# loop over the images that we'll be testing using our bounding box\n",
        "# regression model\n",
        "i = 0\n",
        "while i < int(len(imagePaths)):\n",
        "    # load the input image (in Keras format) from disk and preprocess\n",
        "    # it, scaling the pixel intensities to the range [0, 1]\n",
        "    print(imagePaths[i])\n",
        "    image = load_img(imagePaths[i], target_size=(MIN_HEIGHT, MIN_WIDTH))\n",
        "    image = img_to_array(image) / 255.0\n",
        "    image = np.expand_dims(image, axis=0)\n",
        "\n",
        "    # make bounding box predictions on the input image\n",
        "    num_lines_pred = model.predict(image)\n",
        "\n",
        "    # (startX, startY, endX, endY) = preds[0]\n",
        "    # (a_startX, a_startY, a_endX, a_endY) = axis_preds[0]\n",
        "\n",
        "    # load the input image (in OpenCV format), resize it such that it\n",
        "    # fits on our screen, and grab its dimensions\n",
        "    image = cv2.imread(imagePaths[i])\n",
        "    # image = imutils.resize(image, width=600)\n",
        "    (h, w) = image.shape[:2]\n",
        "    # scale the predicted bounding box coordinates based on the image\n",
        "    # dimensions\n",
        "\n",
        "    if annotsPaths:\n",
        "        annots = []\n",
        "        for annot in annotsPaths[i]:\n",
        "            annots.append(int(annot))\n",
        "        (gt_l_startX, gt_l_startY, gt_l_endX, gt_l_endY, gt_a_startX, gt_a_startY, gt_a_endX, gt_a_endY, gt_num_lines) = annots\n",
        "\n",
        "        print('numero di linee attuale: ' + str(gt_num_lines))\n",
        "        # print('Bbox della legenda attuale: ' + str(gt_l_startX), str(gt_l_startY), str(gt_l_endX), str(gt_l_endY))\n",
        "\n",
        "        # print('Bbox degli assi attuale: ' + str(gt_a_endX), str(gt_a_endY), str(gt_a_startX), str(gt_a_startY))\n",
        "        # # draw the predicted bounding box on the image\n",
        "        # cv2.rectangle(image, (gt_l_startX, gt_l_startY), (gt_l_endX, gt_l_endY), (0, 255, 0), 2)\n",
        "        # cv2.rectangle(image, (gt_a_endX, gt_a_endY), (gt_a_startX, gt_a_startY), (0, 255, 0), 2)\n",
        "\n",
        "    print(\"risultato originale predetto: \" + str(num_lines_pred[0][0]))\n",
        "    # num_lines = np.argmax(num_lines_pred[0]) + 1\n",
        "    print(\"numero di linee predetto dell'immagine: \" + str(round(num_lines_pred[0][0])))\n",
        "\n",
        "    # startX = int(startX * w)\n",
        "    # startY = int(startY * h)\n",
        "    # endX = int(endX * w)\n",
        "    # endY = int(endY * h)\n",
        "    # print('Bbox della legenda predetta: ' + str(startX), str(startY), str(endX), str(endY))\n",
        "    # a_startX = int(a_startX * w)\n",
        "    # a_startY = int(a_startY * h)\n",
        "    # a_endX = int(a_endX * w)\n",
        "    # a_endY = int(a_endY * h)\n",
        "    # print('Bbox degli assi predetta: ' + str(a_endX), str(a_endY), str(a_startX), str(a_startY))\n",
        "    # # draw the predicted bounding box on the image\n",
        "    # cv2.rectangle(image, (startX, startY), (endX, endY),\n",
        "    #               (255, 0, 0), 2)\n",
        "    # cv2.rectangle(image, (a_endX, a_endY), (a_startX, a_startY),\n",
        "    #               (0, 0, 255), 2)\n",
        "    # show the output image\n",
        "    cv2_imshow(image)\n",
        "    k = cv2.waitKeyEx(0)\n",
        "\n",
        "    if k == 27:  # close on ESC key\n",
        "        break\n",
        "    if k == 2424832:  # get back on left arrow key\n",
        "        i = i - 1\n",
        "    else:\n",
        "        i += 1\n"
      ]
    },
    {
      "cell_type": "code",
      "execution_count": null,
      "metadata": {
        "colab": {
          "base_uri": "https://localhost:8080/"
        },
        "id": "JItMPcy4jnLC",
        "outputId": "ce4c2e39-cb7c-47cf-d635-ce610a8b6921"
      },
      "outputs": [
        {
          "name": "stdout",
          "output_type": "stream",
          "text": [
            "  adding: output/ (stored 0%)\n",
            "  adding: output/detector.h5 (deflated 24%)\n",
            "  adding: output/model.png (deflated 17%)\n",
            "  adding: output/Plots/ (stored 0%)\n",
            "  adding: output/Plots/total_loss.png (deflated 5%)\n",
            "  adding: output/test_images.txt (deflated 74%)\n",
            "  adding: output/train_images.txt (deflated 75%)\n"
          ]
        }
      ],
      "source": [
        "!zip -r output.zip output/"
      ]
    }
  ],
  "metadata": {
    "accelerator": "GPU",
    "colab": {
      "provenance": []
    },
    "kernelspec": {
      "display_name": "Python 3",
      "name": "python3"
    },
    "language_info": {
      "name": "python"
    }
  },
  "nbformat": 4,
  "nbformat_minor": 0
}
